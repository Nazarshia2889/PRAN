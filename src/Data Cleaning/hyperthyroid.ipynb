{
 "metadata": {
  "language_info": {
   "codemirror_mode": {
    "name": "ipython",
    "version": 3
   },
   "file_extension": ".py",
   "mimetype": "text/x-python",
   "name": "python",
   "nbconvert_exporter": "python",
   "pygments_lexer": "ipython3",
   "version": "3.8.5-final"
  },
  "orig_nbformat": 2,
  "kernelspec": {
   "name": "python3",
   "display_name": "Python 3.8.5 64-bit",
   "metadata": {
    "interpreter": {
     "hash": "082e9a3bcad0a290d0001e938aa60b99250c6c2ef33a923c00b70f9826caf4b7"
    }
   }
  }
 },
 "nbformat": 4,
 "nbformat_minor": 2,
 "cells": [
  {
   "cell_type": "code",
   "execution_count": null,
   "metadata": {},
   "outputs": [],
   "source": [
    "'''\n",
    "Clean hyperthyroid data\n",
    "'''"
   ]
  },
  {
   "cell_type": "code",
   "execution_count": 31,
   "metadata": {},
   "outputs": [],
   "source": [
    "import pandas as pd\n",
    "import numpy as np \n",
    "import matplotlib.pyplot as plt\n",
    "import seaborn as sns"
   ]
  },
  {
   "cell_type": "code",
   "execution_count": 32,
   "metadata": {},
   "outputs": [
    {
     "output_type": "stream",
     "name": "stdout",
     "text": [
      ";\n; Thyroid disease records supplied by the Garavan Institute and J. Ross\n; Quinlan, New South Wales Institute, Syndney, Australia.\n;\n; 1987.\n;\n\nhyperthyroid, T3 toxic, goitre, secondary toxic,\nnegative.\t\t\t|  classes\n\nage:\t\t\t\tcontinuous.\nsex:\t\t\t\tM, F.\non thyroxine:\t\t\tf, t.\nquery on thyroxine:\t\tf, t.\non antithyroid medication:\tf, t.\nsick:\t\t\t\tf, t.\npregnant:\t\t\tf, t.\nthyroid surgery:\t\tf, t.\nI131 treatment:\t\t\tf, t.\nquery hypothyroid:\t\tf, t.\nquery hyperthyroid:\t\tf, t.\nlithium:\t\t\tf, t.\ngoitre:\t\t\t\tf, t.\ntumor:\t\t\t\tf, t.\nhypopituitary:\t\t\tf, t.\npsych:\t\t\t\tf, t.\nTSH measured:\t\t\tf, t.\nTSH:\t\t\t\tcontinuous.\nT3 measured:\t\t\tf, t.\nT3:\t\t\t\tcontinuous.\nTT4 measured:\t\t\tf, t.\nTT4:\t\t\t\tcontinuous.\nT4U measured:\t\t\tf, t.\nT4U:\t\t\t\tcontinuous.\nFTI measured:\t\t\tf, t.\nFTI:\t\t\t\tcontinuous.\nTBG measured:\t\t\tf, t.\nTBG:\t\t\t\tcontinuous.\nreferral source:\t\tWEST, STMW, SVHC, SVI, SVHD, other.\n\n"
     ]
    }
   ],
   "source": [
    "with open('../data/allhyper.names') as f:\n",
    "    print(f.read())"
   ]
  },
  {
   "cell_type": "code",
   "execution_count": 33,
   "metadata": {},
   "outputs": [
    {
     "output_type": "execute_result",
     "data": {
      "text/plain": [
       "      1  2  3  4  5  6  7  8  9  10  ... 21   22 23    24 25   26 27 28  \\\n",
       "0     41  F  f  f  f  f  f  f  f  f  ...  t  125  t  1.14  t  109  f  ?   \n",
       "1     23  F  f  f  f  f  f  f  f  f  ...  t  102  f     ?  f    ?  f  ?   \n",
       "2     46  M  f  f  f  f  f  f  f  f  ...  t  109  t  0.91  t  120  f  ?   \n",
       "3     70  F  t  f  f  f  f  f  f  f  ...  t  175  f     ?  f    ?  f  ?   \n",
       "4     70  F  f  f  f  f  f  f  f  f  ...  t   61  t  0.87  t   70  f  ?   \n",
       "...   .. .. .. .. .. .. .. .. .. ..  ... ..  ... ..   ... ..  ... .. ..   \n",
       "2795  70  M  f  f  f  f  f  f  f  f  ...  t  155  t  1.05  t  148  f  ?   \n",
       "2796  73  M  f  t  f  f  f  f  f  f  ...  t   63  t  0.88  t   72  f  ?   \n",
       "2797  75  M  f  f  f  f  f  f  f  f  ...  t  147  t   0.8  t  183  f  ?   \n",
       "2798  60  F  f  f  f  f  f  f  f  f  ...  t  100  t  0.83  t  121  f  ?   \n",
       "2799  81  F  f  f  f  f  f  f  f  f  ...  t  114  t  0.99  t  115  f  ?   \n",
       "\n",
       "         29              30  \n",
       "0      SVHC  negative.|3733  \n",
       "1     other  negative.|1442  \n",
       "2     other  negative.|2965  \n",
       "3     other   negative.|806  \n",
       "4       SVI  negative.|2807  \n",
       "...     ...             ...  \n",
       "2795    SVI  negative.|3689  \n",
       "2796  other  negative.|3652  \n",
       "2797  other  negative.|1287  \n",
       "2798  other  negative.|3496  \n",
       "2799    SVI   negative.|724  \n",
       "\n",
       "[2800 rows x 30 columns]"
      ],
      "text/html": "<div>\n<style scoped>\n    .dataframe tbody tr th:only-of-type {\n        vertical-align: middle;\n    }\n\n    .dataframe tbody tr th {\n        vertical-align: top;\n    }\n\n    .dataframe thead th {\n        text-align: right;\n    }\n</style>\n<table border=\"1\" class=\"dataframe\">\n  <thead>\n    <tr style=\"text-align: right;\">\n      <th></th>\n      <th>1</th>\n      <th>2</th>\n      <th>3</th>\n      <th>4</th>\n      <th>5</th>\n      <th>6</th>\n      <th>7</th>\n      <th>8</th>\n      <th>9</th>\n      <th>10</th>\n      <th>...</th>\n      <th>21</th>\n      <th>22</th>\n      <th>23</th>\n      <th>24</th>\n      <th>25</th>\n      <th>26</th>\n      <th>27</th>\n      <th>28</th>\n      <th>29</th>\n      <th>30</th>\n    </tr>\n  </thead>\n  <tbody>\n    <tr>\n      <th>0</th>\n      <td>41</td>\n      <td>F</td>\n      <td>f</td>\n      <td>f</td>\n      <td>f</td>\n      <td>f</td>\n      <td>f</td>\n      <td>f</td>\n      <td>f</td>\n      <td>f</td>\n      <td>...</td>\n      <td>t</td>\n      <td>125</td>\n      <td>t</td>\n      <td>1.14</td>\n      <td>t</td>\n      <td>109</td>\n      <td>f</td>\n      <td>?</td>\n      <td>SVHC</td>\n      <td>negative.|3733</td>\n    </tr>\n    <tr>\n      <th>1</th>\n      <td>23</td>\n      <td>F</td>\n      <td>f</td>\n      <td>f</td>\n      <td>f</td>\n      <td>f</td>\n      <td>f</td>\n      <td>f</td>\n      <td>f</td>\n      <td>f</td>\n      <td>...</td>\n      <td>t</td>\n      <td>102</td>\n      <td>f</td>\n      <td>?</td>\n      <td>f</td>\n      <td>?</td>\n      <td>f</td>\n      <td>?</td>\n      <td>other</td>\n      <td>negative.|1442</td>\n    </tr>\n    <tr>\n      <th>2</th>\n      <td>46</td>\n      <td>M</td>\n      <td>f</td>\n      <td>f</td>\n      <td>f</td>\n      <td>f</td>\n      <td>f</td>\n      <td>f</td>\n      <td>f</td>\n      <td>f</td>\n      <td>...</td>\n      <td>t</td>\n      <td>109</td>\n      <td>t</td>\n      <td>0.91</td>\n      <td>t</td>\n      <td>120</td>\n      <td>f</td>\n      <td>?</td>\n      <td>other</td>\n      <td>negative.|2965</td>\n    </tr>\n    <tr>\n      <th>3</th>\n      <td>70</td>\n      <td>F</td>\n      <td>t</td>\n      <td>f</td>\n      <td>f</td>\n      <td>f</td>\n      <td>f</td>\n      <td>f</td>\n      <td>f</td>\n      <td>f</td>\n      <td>...</td>\n      <td>t</td>\n      <td>175</td>\n      <td>f</td>\n      <td>?</td>\n      <td>f</td>\n      <td>?</td>\n      <td>f</td>\n      <td>?</td>\n      <td>other</td>\n      <td>negative.|806</td>\n    </tr>\n    <tr>\n      <th>4</th>\n      <td>70</td>\n      <td>F</td>\n      <td>f</td>\n      <td>f</td>\n      <td>f</td>\n      <td>f</td>\n      <td>f</td>\n      <td>f</td>\n      <td>f</td>\n      <td>f</td>\n      <td>...</td>\n      <td>t</td>\n      <td>61</td>\n      <td>t</td>\n      <td>0.87</td>\n      <td>t</td>\n      <td>70</td>\n      <td>f</td>\n      <td>?</td>\n      <td>SVI</td>\n      <td>negative.|2807</td>\n    </tr>\n    <tr>\n      <th>...</th>\n      <td>...</td>\n      <td>...</td>\n      <td>...</td>\n      <td>...</td>\n      <td>...</td>\n      <td>...</td>\n      <td>...</td>\n      <td>...</td>\n      <td>...</td>\n      <td>...</td>\n      <td>...</td>\n      <td>...</td>\n      <td>...</td>\n      <td>...</td>\n      <td>...</td>\n      <td>...</td>\n      <td>...</td>\n      <td>...</td>\n      <td>...</td>\n      <td>...</td>\n      <td>...</td>\n    </tr>\n    <tr>\n      <th>2795</th>\n      <td>70</td>\n      <td>M</td>\n      <td>f</td>\n      <td>f</td>\n      <td>f</td>\n      <td>f</td>\n      <td>f</td>\n      <td>f</td>\n      <td>f</td>\n      <td>f</td>\n      <td>...</td>\n      <td>t</td>\n      <td>155</td>\n      <td>t</td>\n      <td>1.05</td>\n      <td>t</td>\n      <td>148</td>\n      <td>f</td>\n      <td>?</td>\n      <td>SVI</td>\n      <td>negative.|3689</td>\n    </tr>\n    <tr>\n      <th>2796</th>\n      <td>73</td>\n      <td>M</td>\n      <td>f</td>\n      <td>t</td>\n      <td>f</td>\n      <td>f</td>\n      <td>f</td>\n      <td>f</td>\n      <td>f</td>\n      <td>f</td>\n      <td>...</td>\n      <td>t</td>\n      <td>63</td>\n      <td>t</td>\n      <td>0.88</td>\n      <td>t</td>\n      <td>72</td>\n      <td>f</td>\n      <td>?</td>\n      <td>other</td>\n      <td>negative.|3652</td>\n    </tr>\n    <tr>\n      <th>2797</th>\n      <td>75</td>\n      <td>M</td>\n      <td>f</td>\n      <td>f</td>\n      <td>f</td>\n      <td>f</td>\n      <td>f</td>\n      <td>f</td>\n      <td>f</td>\n      <td>f</td>\n      <td>...</td>\n      <td>t</td>\n      <td>147</td>\n      <td>t</td>\n      <td>0.8</td>\n      <td>t</td>\n      <td>183</td>\n      <td>f</td>\n      <td>?</td>\n      <td>other</td>\n      <td>negative.|1287</td>\n    </tr>\n    <tr>\n      <th>2798</th>\n      <td>60</td>\n      <td>F</td>\n      <td>f</td>\n      <td>f</td>\n      <td>f</td>\n      <td>f</td>\n      <td>f</td>\n      <td>f</td>\n      <td>f</td>\n      <td>f</td>\n      <td>...</td>\n      <td>t</td>\n      <td>100</td>\n      <td>t</td>\n      <td>0.83</td>\n      <td>t</td>\n      <td>121</td>\n      <td>f</td>\n      <td>?</td>\n      <td>other</td>\n      <td>negative.|3496</td>\n    </tr>\n    <tr>\n      <th>2799</th>\n      <td>81</td>\n      <td>F</td>\n      <td>f</td>\n      <td>f</td>\n      <td>f</td>\n      <td>f</td>\n      <td>f</td>\n      <td>f</td>\n      <td>f</td>\n      <td>f</td>\n      <td>...</td>\n      <td>t</td>\n      <td>114</td>\n      <td>t</td>\n      <td>0.99</td>\n      <td>t</td>\n      <td>115</td>\n      <td>f</td>\n      <td>?</td>\n      <td>SVI</td>\n      <td>negative.|724</td>\n    </tr>\n  </tbody>\n</table>\n<p>2800 rows × 30 columns</p>\n</div>"
     },
     "metadata": {},
     "execution_count": 33
    }
   ],
   "source": [
    "columnNames = ['age','sex','on thyroxine','query on thyroxine','on antithyroid medication','sick','pregnant','thyroid surgery','I131 treatment','query hypothyroid','query hyperthyroid','lithium','goitre','tumor','hypopituitary','psych','TSH measured','TSH','T3 measured','T3', 'TT4 measured', 'TT4', 'T4U measured', 'T4U', 'FTI measured', 'FTI', 'TBG measured', 'TBG', 'referral', 'class']\n",
    "\n",
    "df = pd.read_csv('../data/allhyper.data', names = np.arange(1, 31))\n",
    "df"
   ]
  },
  {
   "cell_type": "code",
   "execution_count": 34,
   "metadata": {},
   "outputs": [
    {
     "output_type": "execute_result",
     "data": {
      "text/plain": [
       "     age sex on thyroxine query on thyroxine on antithyroid medication sick  \\\n",
       "0     41   F            f                  f                         f    f   \n",
       "1     23   F            f                  f                         f    f   \n",
       "2     46   M            f                  f                         f    f   \n",
       "3     70   F            t                  f                         f    f   \n",
       "4     70   F            f                  f                         f    f   \n",
       "...   ..  ..          ...                ...                       ...  ...   \n",
       "2795  70   M            f                  f                         f    f   \n",
       "2796  73   M            f                  t                         f    f   \n",
       "2797  75   M            f                  f                         f    f   \n",
       "2798  60   F            f                  f                         f    f   \n",
       "2799  81   F            f                  f                         f    f   \n",
       "\n",
       "     pregnant thyroid surgery I131 treatment query hypothyroid  ...  \\\n",
       "0           f               f              f                 f  ...   \n",
       "1           f               f              f                 f  ...   \n",
       "2           f               f              f                 f  ...   \n",
       "3           f               f              f                 f  ...   \n",
       "4           f               f              f                 f  ...   \n",
       "...       ...             ...            ...               ...  ...   \n",
       "2795        f               f              f                 f  ...   \n",
       "2796        f               f              f                 f  ...   \n",
       "2797        f               f              f                 f  ...   \n",
       "2798        f               f              f                 f  ...   \n",
       "2799        f               f              f                 f  ...   \n",
       "\n",
       "     TT4 measured  TT4 T4U measured   T4U FTI measured  FTI TBG measured TBG  \\\n",
       "0               t  125            t  1.14            t  109            f   ?   \n",
       "1               t  102            f     ?            f    ?            f   ?   \n",
       "2               t  109            t  0.91            t  120            f   ?   \n",
       "3               t  175            f     ?            f    ?            f   ?   \n",
       "4               t   61            t  0.87            t   70            f   ?   \n",
       "...           ...  ...          ...   ...          ...  ...          ...  ..   \n",
       "2795            t  155            t  1.05            t  148            f   ?   \n",
       "2796            t   63            t  0.88            t   72            f   ?   \n",
       "2797            t  147            t   0.8            t  183            f   ?   \n",
       "2798            t  100            t  0.83            t  121            f   ?   \n",
       "2799            t  114            t  0.99            t  115            f   ?   \n",
       "\n",
       "     referral           class  \n",
       "0        SVHC  negative.|3733  \n",
       "1       other  negative.|1442  \n",
       "2       other  negative.|2965  \n",
       "3       other   negative.|806  \n",
       "4         SVI  negative.|2807  \n",
       "...       ...             ...  \n",
       "2795      SVI  negative.|3689  \n",
       "2796    other  negative.|3652  \n",
       "2797    other  negative.|1287  \n",
       "2798    other  negative.|3496  \n",
       "2799      SVI   negative.|724  \n",
       "\n",
       "[2800 rows x 30 columns]"
      ],
      "text/html": "<div>\n<style scoped>\n    .dataframe tbody tr th:only-of-type {\n        vertical-align: middle;\n    }\n\n    .dataframe tbody tr th {\n        vertical-align: top;\n    }\n\n    .dataframe thead th {\n        text-align: right;\n    }\n</style>\n<table border=\"1\" class=\"dataframe\">\n  <thead>\n    <tr style=\"text-align: right;\">\n      <th></th>\n      <th>age</th>\n      <th>sex</th>\n      <th>on thyroxine</th>\n      <th>query on thyroxine</th>\n      <th>on antithyroid medication</th>\n      <th>sick</th>\n      <th>pregnant</th>\n      <th>thyroid surgery</th>\n      <th>I131 treatment</th>\n      <th>query hypothyroid</th>\n      <th>...</th>\n      <th>TT4 measured</th>\n      <th>TT4</th>\n      <th>T4U measured</th>\n      <th>T4U</th>\n      <th>FTI measured</th>\n      <th>FTI</th>\n      <th>TBG measured</th>\n      <th>TBG</th>\n      <th>referral</th>\n      <th>class</th>\n    </tr>\n  </thead>\n  <tbody>\n    <tr>\n      <th>0</th>\n      <td>41</td>\n      <td>F</td>\n      <td>f</td>\n      <td>f</td>\n      <td>f</td>\n      <td>f</td>\n      <td>f</td>\n      <td>f</td>\n      <td>f</td>\n      <td>f</td>\n      <td>...</td>\n      <td>t</td>\n      <td>125</td>\n      <td>t</td>\n      <td>1.14</td>\n      <td>t</td>\n      <td>109</td>\n      <td>f</td>\n      <td>?</td>\n      <td>SVHC</td>\n      <td>negative.|3733</td>\n    </tr>\n    <tr>\n      <th>1</th>\n      <td>23</td>\n      <td>F</td>\n      <td>f</td>\n      <td>f</td>\n      <td>f</td>\n      <td>f</td>\n      <td>f</td>\n      <td>f</td>\n      <td>f</td>\n      <td>f</td>\n      <td>...</td>\n      <td>t</td>\n      <td>102</td>\n      <td>f</td>\n      <td>?</td>\n      <td>f</td>\n      <td>?</td>\n      <td>f</td>\n      <td>?</td>\n      <td>other</td>\n      <td>negative.|1442</td>\n    </tr>\n    <tr>\n      <th>2</th>\n      <td>46</td>\n      <td>M</td>\n      <td>f</td>\n      <td>f</td>\n      <td>f</td>\n      <td>f</td>\n      <td>f</td>\n      <td>f</td>\n      <td>f</td>\n      <td>f</td>\n      <td>...</td>\n      <td>t</td>\n      <td>109</td>\n      <td>t</td>\n      <td>0.91</td>\n      <td>t</td>\n      <td>120</td>\n      <td>f</td>\n      <td>?</td>\n      <td>other</td>\n      <td>negative.|2965</td>\n    </tr>\n    <tr>\n      <th>3</th>\n      <td>70</td>\n      <td>F</td>\n      <td>t</td>\n      <td>f</td>\n      <td>f</td>\n      <td>f</td>\n      <td>f</td>\n      <td>f</td>\n      <td>f</td>\n      <td>f</td>\n      <td>...</td>\n      <td>t</td>\n      <td>175</td>\n      <td>f</td>\n      <td>?</td>\n      <td>f</td>\n      <td>?</td>\n      <td>f</td>\n      <td>?</td>\n      <td>other</td>\n      <td>negative.|806</td>\n    </tr>\n    <tr>\n      <th>4</th>\n      <td>70</td>\n      <td>F</td>\n      <td>f</td>\n      <td>f</td>\n      <td>f</td>\n      <td>f</td>\n      <td>f</td>\n      <td>f</td>\n      <td>f</td>\n      <td>f</td>\n      <td>...</td>\n      <td>t</td>\n      <td>61</td>\n      <td>t</td>\n      <td>0.87</td>\n      <td>t</td>\n      <td>70</td>\n      <td>f</td>\n      <td>?</td>\n      <td>SVI</td>\n      <td>negative.|2807</td>\n    </tr>\n    <tr>\n      <th>...</th>\n      <td>...</td>\n      <td>...</td>\n      <td>...</td>\n      <td>...</td>\n      <td>...</td>\n      <td>...</td>\n      <td>...</td>\n      <td>...</td>\n      <td>...</td>\n      <td>...</td>\n      <td>...</td>\n      <td>...</td>\n      <td>...</td>\n      <td>...</td>\n      <td>...</td>\n      <td>...</td>\n      <td>...</td>\n      <td>...</td>\n      <td>...</td>\n      <td>...</td>\n      <td>...</td>\n    </tr>\n    <tr>\n      <th>2795</th>\n      <td>70</td>\n      <td>M</td>\n      <td>f</td>\n      <td>f</td>\n      <td>f</td>\n      <td>f</td>\n      <td>f</td>\n      <td>f</td>\n      <td>f</td>\n      <td>f</td>\n      <td>...</td>\n      <td>t</td>\n      <td>155</td>\n      <td>t</td>\n      <td>1.05</td>\n      <td>t</td>\n      <td>148</td>\n      <td>f</td>\n      <td>?</td>\n      <td>SVI</td>\n      <td>negative.|3689</td>\n    </tr>\n    <tr>\n      <th>2796</th>\n      <td>73</td>\n      <td>M</td>\n      <td>f</td>\n      <td>t</td>\n      <td>f</td>\n      <td>f</td>\n      <td>f</td>\n      <td>f</td>\n      <td>f</td>\n      <td>f</td>\n      <td>...</td>\n      <td>t</td>\n      <td>63</td>\n      <td>t</td>\n      <td>0.88</td>\n      <td>t</td>\n      <td>72</td>\n      <td>f</td>\n      <td>?</td>\n      <td>other</td>\n      <td>negative.|3652</td>\n    </tr>\n    <tr>\n      <th>2797</th>\n      <td>75</td>\n      <td>M</td>\n      <td>f</td>\n      <td>f</td>\n      <td>f</td>\n      <td>f</td>\n      <td>f</td>\n      <td>f</td>\n      <td>f</td>\n      <td>f</td>\n      <td>...</td>\n      <td>t</td>\n      <td>147</td>\n      <td>t</td>\n      <td>0.8</td>\n      <td>t</td>\n      <td>183</td>\n      <td>f</td>\n      <td>?</td>\n      <td>other</td>\n      <td>negative.|1287</td>\n    </tr>\n    <tr>\n      <th>2798</th>\n      <td>60</td>\n      <td>F</td>\n      <td>f</td>\n      <td>f</td>\n      <td>f</td>\n      <td>f</td>\n      <td>f</td>\n      <td>f</td>\n      <td>f</td>\n      <td>f</td>\n      <td>...</td>\n      <td>t</td>\n      <td>100</td>\n      <td>t</td>\n      <td>0.83</td>\n      <td>t</td>\n      <td>121</td>\n      <td>f</td>\n      <td>?</td>\n      <td>other</td>\n      <td>negative.|3496</td>\n    </tr>\n    <tr>\n      <th>2799</th>\n      <td>81</td>\n      <td>F</td>\n      <td>f</td>\n      <td>f</td>\n      <td>f</td>\n      <td>f</td>\n      <td>f</td>\n      <td>f</td>\n      <td>f</td>\n      <td>f</td>\n      <td>...</td>\n      <td>t</td>\n      <td>114</td>\n      <td>t</td>\n      <td>0.99</td>\n      <td>t</td>\n      <td>115</td>\n      <td>f</td>\n      <td>?</td>\n      <td>SVI</td>\n      <td>negative.|724</td>\n    </tr>\n  </tbody>\n</table>\n<p>2800 rows × 30 columns</p>\n</div>"
     },
     "metadata": {},
     "execution_count": 34
    }
   ],
   "source": [
    "df.columns = columnNames\n",
    "df"
   ]
  },
  {
   "cell_type": "code",
   "execution_count": 35,
   "metadata": {},
   "outputs": [
    {
     "output_type": "execute_result",
     "data": {
      "text/plain": [
       "Index(['age', 'sex', 'on thyroxine', 'query on thyroxine',\n",
       "       'on antithyroid medication', 'sick', 'pregnant', 'thyroid surgery',\n",
       "       'I131 treatment', 'query hypothyroid', 'query hyperthyroid', 'lithium',\n",
       "       'goitre', 'tumor', 'hypopituitary', 'psych', 'TSH measured', 'TSH',\n",
       "       'T3 measured', 'T3', 'TT4 measured', 'TT4', 'T4U measured', 'T4U',\n",
       "       'FTI measured', 'FTI', 'TBG measured', 'TBG', 'referral', 'class'],\n",
       "      dtype='object')"
      ]
     },
     "metadata": {},
     "execution_count": 35
    }
   ],
   "source": [
    "df.columns"
   ]
  },
  {
   "cell_type": "code",
   "execution_count": 36,
   "metadata": {},
   "outputs": [
    {
     "output_type": "execute_result",
     "data": {
      "text/plain": [
       "     age sex on thyroxine query on thyroxine on antithyroid medication sick  \\\n",
       "0     41   F            f                  f                         f    f   \n",
       "1     23   F            f                  f                         f    f   \n",
       "2     46   M            f                  f                         f    f   \n",
       "3     70   F            t                  f                         f    f   \n",
       "4     70   F            f                  f                         f    f   \n",
       "...   ..  ..          ...                ...                       ...  ...   \n",
       "2795  70   M            f                  f                         f    f   \n",
       "2796  73   M            f                  t                         f    f   \n",
       "2797  75   M            f                  f                         f    f   \n",
       "2798  60   F            f                  f                         f    f   \n",
       "2799  81   F            f                  f                         f    f   \n",
       "\n",
       "     pregnant thyroid surgery I131 treatment query hypothyroid  ...  \\\n",
       "0           f               f              f                 f  ...   \n",
       "1           f               f              f                 f  ...   \n",
       "2           f               f              f                 f  ...   \n",
       "3           f               f              f                 f  ...   \n",
       "4           f               f              f                 f  ...   \n",
       "...       ...             ...            ...               ...  ...   \n",
       "2795        f               f              f                 f  ...   \n",
       "2796        f               f              f                 f  ...   \n",
       "2797        f               f              f                 f  ...   \n",
       "2798        f               f              f                 f  ...   \n",
       "2799        f               f              f                 f  ...   \n",
       "\n",
       "     TT4 measured  TT4 T4U measured   T4U FTI measured  FTI TBG measured TBG  \\\n",
       "0               t  125            t  1.14            t  109            f   ?   \n",
       "1               t  102            f     ?            f    ?            f   ?   \n",
       "2               t  109            t  0.91            t  120            f   ?   \n",
       "3               t  175            f     ?            f    ?            f   ?   \n",
       "4               t   61            t  0.87            t   70            f   ?   \n",
       "...           ...  ...          ...   ...          ...  ...          ...  ..   \n",
       "2795            t  155            t  1.05            t  148            f   ?   \n",
       "2796            t   63            t  0.88            t   72            f   ?   \n",
       "2797            t  147            t   0.8            t  183            f   ?   \n",
       "2798            t  100            t  0.83            t  121            f   ?   \n",
       "2799            t  114            t  0.99            t  115            f   ?   \n",
       "\n",
       "     referral           class  \n",
       "0        SVHC  negative.|3733  \n",
       "1       other  negative.|1442  \n",
       "2       other  negative.|2965  \n",
       "3       other   negative.|806  \n",
       "4         SVI  negative.|2807  \n",
       "...       ...             ...  \n",
       "2795      SVI  negative.|3689  \n",
       "2796    other  negative.|3652  \n",
       "2797    other  negative.|1287  \n",
       "2798    other  negative.|3496  \n",
       "2799      SVI   negative.|724  \n",
       "\n",
       "[2800 rows x 30 columns]"
      ],
      "text/html": "<div>\n<style scoped>\n    .dataframe tbody tr th:only-of-type {\n        vertical-align: middle;\n    }\n\n    .dataframe tbody tr th {\n        vertical-align: top;\n    }\n\n    .dataframe thead th {\n        text-align: right;\n    }\n</style>\n<table border=\"1\" class=\"dataframe\">\n  <thead>\n    <tr style=\"text-align: right;\">\n      <th></th>\n      <th>age</th>\n      <th>sex</th>\n      <th>on thyroxine</th>\n      <th>query on thyroxine</th>\n      <th>on antithyroid medication</th>\n      <th>sick</th>\n      <th>pregnant</th>\n      <th>thyroid surgery</th>\n      <th>I131 treatment</th>\n      <th>query hypothyroid</th>\n      <th>...</th>\n      <th>TT4 measured</th>\n      <th>TT4</th>\n      <th>T4U measured</th>\n      <th>T4U</th>\n      <th>FTI measured</th>\n      <th>FTI</th>\n      <th>TBG measured</th>\n      <th>TBG</th>\n      <th>referral</th>\n      <th>class</th>\n    </tr>\n  </thead>\n  <tbody>\n    <tr>\n      <th>0</th>\n      <td>41</td>\n      <td>F</td>\n      <td>f</td>\n      <td>f</td>\n      <td>f</td>\n      <td>f</td>\n      <td>f</td>\n      <td>f</td>\n      <td>f</td>\n      <td>f</td>\n      <td>...</td>\n      <td>t</td>\n      <td>125</td>\n      <td>t</td>\n      <td>1.14</td>\n      <td>t</td>\n      <td>109</td>\n      <td>f</td>\n      <td>?</td>\n      <td>SVHC</td>\n      <td>negative.|3733</td>\n    </tr>\n    <tr>\n      <th>1</th>\n      <td>23</td>\n      <td>F</td>\n      <td>f</td>\n      <td>f</td>\n      <td>f</td>\n      <td>f</td>\n      <td>f</td>\n      <td>f</td>\n      <td>f</td>\n      <td>f</td>\n      <td>...</td>\n      <td>t</td>\n      <td>102</td>\n      <td>f</td>\n      <td>?</td>\n      <td>f</td>\n      <td>?</td>\n      <td>f</td>\n      <td>?</td>\n      <td>other</td>\n      <td>negative.|1442</td>\n    </tr>\n    <tr>\n      <th>2</th>\n      <td>46</td>\n      <td>M</td>\n      <td>f</td>\n      <td>f</td>\n      <td>f</td>\n      <td>f</td>\n      <td>f</td>\n      <td>f</td>\n      <td>f</td>\n      <td>f</td>\n      <td>...</td>\n      <td>t</td>\n      <td>109</td>\n      <td>t</td>\n      <td>0.91</td>\n      <td>t</td>\n      <td>120</td>\n      <td>f</td>\n      <td>?</td>\n      <td>other</td>\n      <td>negative.|2965</td>\n    </tr>\n    <tr>\n      <th>3</th>\n      <td>70</td>\n      <td>F</td>\n      <td>t</td>\n      <td>f</td>\n      <td>f</td>\n      <td>f</td>\n      <td>f</td>\n      <td>f</td>\n      <td>f</td>\n      <td>f</td>\n      <td>...</td>\n      <td>t</td>\n      <td>175</td>\n      <td>f</td>\n      <td>?</td>\n      <td>f</td>\n      <td>?</td>\n      <td>f</td>\n      <td>?</td>\n      <td>other</td>\n      <td>negative.|806</td>\n    </tr>\n    <tr>\n      <th>4</th>\n      <td>70</td>\n      <td>F</td>\n      <td>f</td>\n      <td>f</td>\n      <td>f</td>\n      <td>f</td>\n      <td>f</td>\n      <td>f</td>\n      <td>f</td>\n      <td>f</td>\n      <td>...</td>\n      <td>t</td>\n      <td>61</td>\n      <td>t</td>\n      <td>0.87</td>\n      <td>t</td>\n      <td>70</td>\n      <td>f</td>\n      <td>?</td>\n      <td>SVI</td>\n      <td>negative.|2807</td>\n    </tr>\n    <tr>\n      <th>...</th>\n      <td>...</td>\n      <td>...</td>\n      <td>...</td>\n      <td>...</td>\n      <td>...</td>\n      <td>...</td>\n      <td>...</td>\n      <td>...</td>\n      <td>...</td>\n      <td>...</td>\n      <td>...</td>\n      <td>...</td>\n      <td>...</td>\n      <td>...</td>\n      <td>...</td>\n      <td>...</td>\n      <td>...</td>\n      <td>...</td>\n      <td>...</td>\n      <td>...</td>\n      <td>...</td>\n    </tr>\n    <tr>\n      <th>2795</th>\n      <td>70</td>\n      <td>M</td>\n      <td>f</td>\n      <td>f</td>\n      <td>f</td>\n      <td>f</td>\n      <td>f</td>\n      <td>f</td>\n      <td>f</td>\n      <td>f</td>\n      <td>...</td>\n      <td>t</td>\n      <td>155</td>\n      <td>t</td>\n      <td>1.05</td>\n      <td>t</td>\n      <td>148</td>\n      <td>f</td>\n      <td>?</td>\n      <td>SVI</td>\n      <td>negative.|3689</td>\n    </tr>\n    <tr>\n      <th>2796</th>\n      <td>73</td>\n      <td>M</td>\n      <td>f</td>\n      <td>t</td>\n      <td>f</td>\n      <td>f</td>\n      <td>f</td>\n      <td>f</td>\n      <td>f</td>\n      <td>f</td>\n      <td>...</td>\n      <td>t</td>\n      <td>63</td>\n      <td>t</td>\n      <td>0.88</td>\n      <td>t</td>\n      <td>72</td>\n      <td>f</td>\n      <td>?</td>\n      <td>other</td>\n      <td>negative.|3652</td>\n    </tr>\n    <tr>\n      <th>2797</th>\n      <td>75</td>\n      <td>M</td>\n      <td>f</td>\n      <td>f</td>\n      <td>f</td>\n      <td>f</td>\n      <td>f</td>\n      <td>f</td>\n      <td>f</td>\n      <td>f</td>\n      <td>...</td>\n      <td>t</td>\n      <td>147</td>\n      <td>t</td>\n      <td>0.8</td>\n      <td>t</td>\n      <td>183</td>\n      <td>f</td>\n      <td>?</td>\n      <td>other</td>\n      <td>negative.|1287</td>\n    </tr>\n    <tr>\n      <th>2798</th>\n      <td>60</td>\n      <td>F</td>\n      <td>f</td>\n      <td>f</td>\n      <td>f</td>\n      <td>f</td>\n      <td>f</td>\n      <td>f</td>\n      <td>f</td>\n      <td>f</td>\n      <td>...</td>\n      <td>t</td>\n      <td>100</td>\n      <td>t</td>\n      <td>0.83</td>\n      <td>t</td>\n      <td>121</td>\n      <td>f</td>\n      <td>?</td>\n      <td>other</td>\n      <td>negative.|3496</td>\n    </tr>\n    <tr>\n      <th>2799</th>\n      <td>81</td>\n      <td>F</td>\n      <td>f</td>\n      <td>f</td>\n      <td>f</td>\n      <td>f</td>\n      <td>f</td>\n      <td>f</td>\n      <td>f</td>\n      <td>f</td>\n      <td>...</td>\n      <td>t</td>\n      <td>114</td>\n      <td>t</td>\n      <td>0.99</td>\n      <td>t</td>\n      <td>115</td>\n      <td>f</td>\n      <td>?</td>\n      <td>SVI</td>\n      <td>negative.|724</td>\n    </tr>\n  </tbody>\n</table>\n<p>2800 rows × 30 columns</p>\n</div>"
     },
     "metadata": {},
     "execution_count": 36
    }
   ],
   "source": [
    "df[df['TBG'] == '?']"
   ]
  },
  {
   "cell_type": "code",
   "execution_count": 37,
   "metadata": {},
   "outputs": [
    {
     "output_type": "execute_result",
     "data": {
      "text/plain": [
       "  age sex on thyroxine query on thyroxine on antithyroid medication sick  \\\n",
       "0  41   F            f                  f                         f    f   \n",
       "1  23   F            f                  f                         f    f   \n",
       "2  46   M            f                  f                         f    f   \n",
       "3  70   F            t                  f                         f    f   \n",
       "4  70   F            f                  f                         f    f   \n",
       "\n",
       "  pregnant thyroid surgery I131 treatment query hypothyroid  ... tumor  \\\n",
       "0        f               f              f                 f  ...     f   \n",
       "1        f               f              f                 f  ...     f   \n",
       "2        f               f              f                 f  ...     f   \n",
       "3        f               f              f                 f  ...     f   \n",
       "4        f               f              f                 f  ...     f   \n",
       "\n",
       "  hypopituitary psych   TSH   T3  TT4   T4U  FTI referral           class  \n",
       "0             f     f   1.3  2.5  125  1.14  109     SVHC  negative.|3733  \n",
       "1             f     f   4.1    2  102     ?    ?    other  negative.|1442  \n",
       "2             f     f  0.98    ?  109  0.91  120    other  negative.|2965  \n",
       "3             f     f  0.16  1.9  175     ?    ?    other   negative.|806  \n",
       "4             f     f  0.72  1.2   61  0.87   70      SVI  negative.|2807  \n",
       "\n",
       "[5 rows x 23 columns]"
      ],
      "text/html": "<div>\n<style scoped>\n    .dataframe tbody tr th:only-of-type {\n        vertical-align: middle;\n    }\n\n    .dataframe tbody tr th {\n        vertical-align: top;\n    }\n\n    .dataframe thead th {\n        text-align: right;\n    }\n</style>\n<table border=\"1\" class=\"dataframe\">\n  <thead>\n    <tr style=\"text-align: right;\">\n      <th></th>\n      <th>age</th>\n      <th>sex</th>\n      <th>on thyroxine</th>\n      <th>query on thyroxine</th>\n      <th>on antithyroid medication</th>\n      <th>sick</th>\n      <th>pregnant</th>\n      <th>thyroid surgery</th>\n      <th>I131 treatment</th>\n      <th>query hypothyroid</th>\n      <th>...</th>\n      <th>tumor</th>\n      <th>hypopituitary</th>\n      <th>psych</th>\n      <th>TSH</th>\n      <th>T3</th>\n      <th>TT4</th>\n      <th>T4U</th>\n      <th>FTI</th>\n      <th>referral</th>\n      <th>class</th>\n    </tr>\n  </thead>\n  <tbody>\n    <tr>\n      <th>0</th>\n      <td>41</td>\n      <td>F</td>\n      <td>f</td>\n      <td>f</td>\n      <td>f</td>\n      <td>f</td>\n      <td>f</td>\n      <td>f</td>\n      <td>f</td>\n      <td>f</td>\n      <td>...</td>\n      <td>f</td>\n      <td>f</td>\n      <td>f</td>\n      <td>1.3</td>\n      <td>2.5</td>\n      <td>125</td>\n      <td>1.14</td>\n      <td>109</td>\n      <td>SVHC</td>\n      <td>negative.|3733</td>\n    </tr>\n    <tr>\n      <th>1</th>\n      <td>23</td>\n      <td>F</td>\n      <td>f</td>\n      <td>f</td>\n      <td>f</td>\n      <td>f</td>\n      <td>f</td>\n      <td>f</td>\n      <td>f</td>\n      <td>f</td>\n      <td>...</td>\n      <td>f</td>\n      <td>f</td>\n      <td>f</td>\n      <td>4.1</td>\n      <td>2</td>\n      <td>102</td>\n      <td>?</td>\n      <td>?</td>\n      <td>other</td>\n      <td>negative.|1442</td>\n    </tr>\n    <tr>\n      <th>2</th>\n      <td>46</td>\n      <td>M</td>\n      <td>f</td>\n      <td>f</td>\n      <td>f</td>\n      <td>f</td>\n      <td>f</td>\n      <td>f</td>\n      <td>f</td>\n      <td>f</td>\n      <td>...</td>\n      <td>f</td>\n      <td>f</td>\n      <td>f</td>\n      <td>0.98</td>\n      <td>?</td>\n      <td>109</td>\n      <td>0.91</td>\n      <td>120</td>\n      <td>other</td>\n      <td>negative.|2965</td>\n    </tr>\n    <tr>\n      <th>3</th>\n      <td>70</td>\n      <td>F</td>\n      <td>t</td>\n      <td>f</td>\n      <td>f</td>\n      <td>f</td>\n      <td>f</td>\n      <td>f</td>\n      <td>f</td>\n      <td>f</td>\n      <td>...</td>\n      <td>f</td>\n      <td>f</td>\n      <td>f</td>\n      <td>0.16</td>\n      <td>1.9</td>\n      <td>175</td>\n      <td>?</td>\n      <td>?</td>\n      <td>other</td>\n      <td>negative.|806</td>\n    </tr>\n    <tr>\n      <th>4</th>\n      <td>70</td>\n      <td>F</td>\n      <td>f</td>\n      <td>f</td>\n      <td>f</td>\n      <td>f</td>\n      <td>f</td>\n      <td>f</td>\n      <td>f</td>\n      <td>f</td>\n      <td>...</td>\n      <td>f</td>\n      <td>f</td>\n      <td>f</td>\n      <td>0.72</td>\n      <td>1.2</td>\n      <td>61</td>\n      <td>0.87</td>\n      <td>70</td>\n      <td>SVI</td>\n      <td>negative.|2807</td>\n    </tr>\n  </tbody>\n</table>\n<p>5 rows × 23 columns</p>\n</div>"
     },
     "metadata": {},
     "execution_count": 37
    }
   ],
   "source": [
    "df = df.drop(['TSH measured', 'T3 measured', 'TT4 measured', 'T4U measured', 'FTI measured', 'TBG measured', 'TBG'], axis = 1)\n",
    "df.head()"
   ]
  },
  {
   "cell_type": "code",
   "execution_count": 38,
   "metadata": {},
   "outputs": [
    {
     "output_type": "display_data",
     "data": {
      "text/plain": "<Figure size 432x288 with 1 Axes>",
      "image/svg+xml": "<?xml version=\"1.0\" encoding=\"utf-8\" standalone=\"no\"?>\n<!DOCTYPE svg PUBLIC \"-//W3C//DTD SVG 1.1//EN\"\n  \"http://www.w3.org/Graphics/SVG/1.1/DTD/svg11.dtd\">\n<svg xmlns:xlink=\"http://www.w3.org/1999/xlink\" width=\"398.283125pt\" height=\"281.0925pt\" viewBox=\"0 0 398.283125 281.0925\" xmlns=\"http://www.w3.org/2000/svg\" version=\"1.1\">\n <metadata>\n  <rdf:RDF xmlns:dc=\"http://purl.org/dc/elements/1.1/\" xmlns:cc=\"http://creativecommons.org/ns#\" xmlns:rdf=\"http://www.w3.org/1999/02/22-rdf-syntax-ns#\">\n   <cc:Work>\n    <dc:type rdf:resource=\"http://purl.org/dc/dcmitype/StillImage\"/>\n    <dc:date>2023-01-07T16:01:56.112533</dc:date>\n    <dc:format>image/svg+xml</dc:format>\n    <dc:creator>\n     <cc:Agent>\n      <dc:title>Matplotlib v3.5.0, https://matplotlib.org/</dc:title>\n     </cc:Agent>\n    </dc:creator>\n   </cc:Work>\n  </rdf:RDF>\n </metadata>\n <defs>\n  <style type=\"text/css\">*{stroke-linejoin: round; stroke-linecap: butt}</style>\n </defs>\n <g id=\"figure_1\">\n  <g id=\"patch_1\">\n   <path d=\"M 0 281.0925 \nL 398.283125 281.0925 \nL 398.283125 0 \nL 0 0 \nz\n\" style=\"fill: #ffffff\"/>\n  </g>\n  <g id=\"axes_1\">\n   <g id=\"patch_2\">\n    <path d=\"M 56.283125 239.229375 \nL 391.083125 239.229375 \nL 391.083125 21.789375 \nL 56.283125 21.789375 \nz\n\" style=\"fill: #eaeaf2\"/>\n   </g>\n   <g id=\"matplotlib.axis_1\">\n    <g id=\"xtick_1\">\n     <g id=\"text_1\">\n      <!-- negative -->\n      <g style=\"fill: #262626\" transform=\"translate(119.190547 256.602969)scale(0.11 -0.11)\">\n       <defs>\n        <path id=\"ArialMT-6e\" d=\"M 422 0 \nL 422 3319 \nL 928 3319 \nL 928 2847 \nQ 1294 3394 1984 3394 \nQ 2284 3394 2536 3286 \nQ 2788 3178 2913 3003 \nQ 3038 2828 3088 2588 \nQ 3119 2431 3119 2041 \nL 3119 0 \nL 2556 0 \nL 2556 2019 \nQ 2556 2363 2490 2533 \nQ 2425 2703 2258 2804 \nQ 2091 2906 1866 2906 \nQ 1506 2906 1245 2678 \nQ 984 2450 984 1813 \nL 984 0 \nL 422 0 \nz\n\" transform=\"scale(0.015625)\"/>\n        <path id=\"ArialMT-65\" d=\"M 2694 1069 \nL 3275 997 \nQ 3138 488 2766 206 \nQ 2394 -75 1816 -75 \nQ 1088 -75 661 373 \nQ 234 822 234 1631 \nQ 234 2469 665 2931 \nQ 1097 3394 1784 3394 \nQ 2450 3394 2872 2941 \nQ 3294 2488 3294 1666 \nQ 3294 1616 3291 1516 \nL 816 1516 \nQ 847 969 1125 678 \nQ 1403 388 1819 388 \nQ 2128 388 2347 550 \nQ 2566 713 2694 1069 \nz\nM 847 1978 \nL 2700 1978 \nQ 2663 2397 2488 2606 \nQ 2219 2931 1791 2931 \nQ 1403 2931 1139 2672 \nQ 875 2413 847 1978 \nz\n\" transform=\"scale(0.015625)\"/>\n        <path id=\"ArialMT-67\" d=\"M 319 -275 \nL 866 -356 \nQ 900 -609 1056 -725 \nQ 1266 -881 1628 -881 \nQ 2019 -881 2231 -725 \nQ 2444 -569 2519 -288 \nQ 2563 -116 2559 434 \nQ 2191 0 1641 0 \nQ 956 0 581 494 \nQ 206 988 206 1678 \nQ 206 2153 378 2554 \nQ 550 2956 876 3175 \nQ 1203 3394 1644 3394 \nQ 2231 3394 2613 2919 \nL 2613 3319 \nL 3131 3319 \nL 3131 450 \nQ 3131 -325 2973 -648 \nQ 2816 -972 2473 -1159 \nQ 2131 -1347 1631 -1347 \nQ 1038 -1347 672 -1080 \nQ 306 -813 319 -275 \nz\nM 784 1719 \nQ 784 1066 1043 766 \nQ 1303 466 1694 466 \nQ 2081 466 2343 764 \nQ 2606 1063 2606 1700 \nQ 2606 2309 2336 2618 \nQ 2066 2928 1684 2928 \nQ 1309 2928 1046 2623 \nQ 784 2319 784 1719 \nz\n\" transform=\"scale(0.015625)\"/>\n        <path id=\"ArialMT-61\" d=\"M 2588 409 \nQ 2275 144 1986 34 \nQ 1697 -75 1366 -75 \nQ 819 -75 525 192 \nQ 231 459 231 875 \nQ 231 1119 342 1320 \nQ 453 1522 633 1644 \nQ 813 1766 1038 1828 \nQ 1203 1872 1538 1913 \nQ 2219 1994 2541 2106 \nQ 2544 2222 2544 2253 \nQ 2544 2597 2384 2738 \nQ 2169 2928 1744 2928 \nQ 1347 2928 1158 2789 \nQ 969 2650 878 2297 \nL 328 2372 \nQ 403 2725 575 2942 \nQ 747 3159 1072 3276 \nQ 1397 3394 1825 3394 \nQ 2250 3394 2515 3294 \nQ 2781 3194 2906 3042 \nQ 3031 2891 3081 2659 \nQ 3109 2516 3109 2141 \nL 3109 1391 \nQ 3109 606 3145 398 \nQ 3181 191 3288 0 \nL 2700 0 \nQ 2613 175 2588 409 \nz\nM 2541 1666 \nQ 2234 1541 1622 1453 \nQ 1275 1403 1131 1340 \nQ 988 1278 909 1158 \nQ 831 1038 831 891 \nQ 831 666 1001 516 \nQ 1172 366 1500 366 \nQ 1825 366 2078 508 \nQ 2331 650 2450 897 \nQ 2541 1088 2541 1459 \nL 2541 1666 \nz\n\" transform=\"scale(0.015625)\"/>\n        <path id=\"ArialMT-74\" d=\"M 1650 503 \nL 1731 6 \nQ 1494 -44 1306 -44 \nQ 1000 -44 831 53 \nQ 663 150 594 308 \nQ 525 466 525 972 \nL 525 2881 \nL 113 2881 \nL 113 3319 \nL 525 3319 \nL 525 4141 \nL 1084 4478 \nL 1084 3319 \nL 1650 3319 \nL 1650 2881 \nL 1084 2881 \nL 1084 941 \nQ 1084 700 1114 631 \nQ 1144 563 1211 522 \nQ 1278 481 1403 481 \nQ 1497 481 1650 503 \nz\n\" transform=\"scale(0.015625)\"/>\n        <path id=\"ArialMT-69\" d=\"M 425 3934 \nL 425 4581 \nL 988 4581 \nL 988 3934 \nL 425 3934 \nz\nM 425 0 \nL 425 3319 \nL 988 3319 \nL 988 0 \nL 425 0 \nz\n\" transform=\"scale(0.015625)\"/>\n        <path id=\"ArialMT-76\" d=\"M 1344 0 \nL 81 3319 \nL 675 3319 \nL 1388 1331 \nQ 1503 1009 1600 663 \nQ 1675 925 1809 1294 \nL 2547 3319 \nL 3125 3319 \nL 1869 0 \nL 1344 0 \nz\n\" transform=\"scale(0.015625)\"/>\n       </defs>\n       <use xlink:href=\"#ArialMT-6e\"/>\n       <use xlink:href=\"#ArialMT-65\" x=\"55.615234\"/>\n       <use xlink:href=\"#ArialMT-67\" x=\"111.230469\"/>\n       <use xlink:href=\"#ArialMT-61\" x=\"166.845703\"/>\n       <use xlink:href=\"#ArialMT-74\" x=\"222.460938\"/>\n       <use xlink:href=\"#ArialMT-69\" x=\"250.244141\"/>\n       <use xlink:href=\"#ArialMT-76\" x=\"272.460938\"/>\n       <use xlink:href=\"#ArialMT-65\" x=\"322.460938\"/>\n      </g>\n     </g>\n    </g>\n    <g id=\"xtick_2\">\n     <g id=\"text_2\">\n      <!-- positive -->\n      <g style=\"fill: #262626\" transform=\"translate(288.735547 256.602969)scale(0.11 -0.11)\">\n       <defs>\n        <path id=\"ArialMT-70\" d=\"M 422 -1272 \nL 422 3319 \nL 934 3319 \nL 934 2888 \nQ 1116 3141 1344 3267 \nQ 1572 3394 1897 3394 \nQ 2322 3394 2647 3175 \nQ 2972 2956 3137 2557 \nQ 3303 2159 3303 1684 \nQ 3303 1175 3120 767 \nQ 2938 359 2589 142 \nQ 2241 -75 1856 -75 \nQ 1575 -75 1351 44 \nQ 1128 163 984 344 \nL 984 -1272 \nL 422 -1272 \nz\nM 931 1641 \nQ 931 1000 1190 694 \nQ 1450 388 1819 388 \nQ 2194 388 2461 705 \nQ 2728 1022 2728 1688 \nQ 2728 2322 2467 2637 \nQ 2206 2953 1844 2953 \nQ 1484 2953 1207 2617 \nQ 931 2281 931 1641 \nz\n\" transform=\"scale(0.015625)\"/>\n        <path id=\"ArialMT-6f\" d=\"M 213 1659 \nQ 213 2581 725 3025 \nQ 1153 3394 1769 3394 \nQ 2453 3394 2887 2945 \nQ 3322 2497 3322 1706 \nQ 3322 1066 3130 698 \nQ 2938 331 2570 128 \nQ 2203 -75 1769 -75 \nQ 1072 -75 642 372 \nQ 213 819 213 1659 \nz\nM 791 1659 \nQ 791 1022 1069 705 \nQ 1347 388 1769 388 \nQ 2188 388 2466 706 \nQ 2744 1025 2744 1678 \nQ 2744 2294 2464 2611 \nQ 2184 2928 1769 2928 \nQ 1347 2928 1069 2612 \nQ 791 2297 791 1659 \nz\n\" transform=\"scale(0.015625)\"/>\n        <path id=\"ArialMT-73\" d=\"M 197 991 \nL 753 1078 \nQ 800 744 1014 566 \nQ 1228 388 1613 388 \nQ 2000 388 2187 545 \nQ 2375 703 2375 916 \nQ 2375 1106 2209 1216 \nQ 2094 1291 1634 1406 \nQ 1016 1563 777 1677 \nQ 538 1791 414 1992 \nQ 291 2194 291 2438 \nQ 291 2659 392 2848 \nQ 494 3038 669 3163 \nQ 800 3259 1026 3326 \nQ 1253 3394 1513 3394 \nQ 1903 3394 2198 3281 \nQ 2494 3169 2634 2976 \nQ 2775 2784 2828 2463 \nL 2278 2388 \nQ 2241 2644 2061 2787 \nQ 1881 2931 1553 2931 \nQ 1166 2931 1000 2803 \nQ 834 2675 834 2503 \nQ 834 2394 903 2306 \nQ 972 2216 1119 2156 \nQ 1203 2125 1616 2013 \nQ 2213 1853 2448 1751 \nQ 2684 1650 2818 1456 \nQ 2953 1263 2953 975 \nQ 2953 694 2789 445 \nQ 2625 197 2315 61 \nQ 2006 -75 1616 -75 \nQ 969 -75 630 194 \nQ 291 463 197 991 \nz\n\" transform=\"scale(0.015625)\"/>\n       </defs>\n       <use xlink:href=\"#ArialMT-70\"/>\n       <use xlink:href=\"#ArialMT-6f\" x=\"55.615234\"/>\n       <use xlink:href=\"#ArialMT-73\" x=\"111.230469\"/>\n       <use xlink:href=\"#ArialMT-69\" x=\"161.230469\"/>\n       <use xlink:href=\"#ArialMT-74\" x=\"183.447266\"/>\n       <use xlink:href=\"#ArialMT-69\" x=\"211.230469\"/>\n       <use xlink:href=\"#ArialMT-76\" x=\"233.447266\"/>\n       <use xlink:href=\"#ArialMT-65\" x=\"283.447266\"/>\n      </g>\n     </g>\n    </g>\n    <g id=\"text_3\">\n     <!-- Classes -->\n     <g style=\"fill: #262626\" transform=\"translate(202.34375 271.5075)scale(0.12 -0.12)\">\n      <defs>\n       <path id=\"ArialMT-43\" d=\"M 3763 1606 \nL 4369 1453 \nQ 4178 706 3683 314 \nQ 3188 -78 2472 -78 \nQ 1731 -78 1267 223 \nQ 803 525 561 1097 \nQ 319 1669 319 2325 \nQ 319 3041 592 3573 \nQ 866 4106 1370 4382 \nQ 1875 4659 2481 4659 \nQ 3169 4659 3637 4309 \nQ 4106 3959 4291 3325 \nL 3694 3184 \nQ 3534 3684 3231 3912 \nQ 2928 4141 2469 4141 \nQ 1941 4141 1586 3887 \nQ 1231 3634 1087 3207 \nQ 944 2781 944 2328 \nQ 944 1744 1114 1308 \nQ 1284 872 1643 656 \nQ 2003 441 2422 441 \nQ 2931 441 3284 734 \nQ 3638 1028 3763 1606 \nz\n\" transform=\"scale(0.015625)\"/>\n       <path id=\"ArialMT-6c\" d=\"M 409 0 \nL 409 4581 \nL 972 4581 \nL 972 0 \nL 409 0 \nz\n\" transform=\"scale(0.015625)\"/>\n      </defs>\n      <use xlink:href=\"#ArialMT-43\"/>\n      <use xlink:href=\"#ArialMT-6c\" x=\"72.216797\"/>\n      <use xlink:href=\"#ArialMT-61\" x=\"94.433594\"/>\n      <use xlink:href=\"#ArialMT-73\" x=\"150.048828\"/>\n      <use xlink:href=\"#ArialMT-73\" x=\"200.048828\"/>\n      <use xlink:href=\"#ArialMT-65\" x=\"250.048828\"/>\n      <use xlink:href=\"#ArialMT-73\" x=\"305.664062\"/>\n     </g>\n    </g>\n   </g>\n   <g id=\"matplotlib.axis_2\">\n    <g id=\"ytick_1\">\n     <g id=\"line2d_1\">\n      <path d=\"M 56.283125 239.229375 \nL 391.083125 239.229375 \n\" clip-path=\"url(#p5245d84873)\" style=\"fill: none; stroke: #ffffff; stroke-linecap: round\"/>\n     </g>\n     <g id=\"text_4\">\n      <!-- 0 -->\n      <g style=\"fill: #262626\" transform=\"translate(40.666094 243.166172)scale(0.11 -0.11)\">\n       <defs>\n        <path id=\"ArialMT-30\" d=\"M 266 2259 \nQ 266 3072 433 3567 \nQ 600 4063 929 4331 \nQ 1259 4600 1759 4600 \nQ 2128 4600 2406 4451 \nQ 2684 4303 2865 4023 \nQ 3047 3744 3150 3342 \nQ 3253 2941 3253 2259 \nQ 3253 1453 3087 958 \nQ 2922 463 2592 192 \nQ 2263 -78 1759 -78 \nQ 1097 -78 719 397 \nQ 266 969 266 2259 \nz\nM 844 2259 \nQ 844 1131 1108 757 \nQ 1372 384 1759 384 \nQ 2147 384 2411 759 \nQ 2675 1134 2675 2259 \nQ 2675 3391 2411 3762 \nQ 2147 4134 1753 4134 \nQ 1366 4134 1134 3806 \nQ 844 3388 844 2259 \nz\n\" transform=\"scale(0.015625)\"/>\n       </defs>\n       <use xlink:href=\"#ArialMT-30\"/>\n      </g>\n     </g>\n    </g>\n    <g id=\"ytick_2\">\n     <g id=\"line2d_2\">\n      <path d=\"M 56.283125 201.204088 \nL 391.083125 201.204088 \n\" clip-path=\"url(#p5245d84873)\" style=\"fill: none; stroke: #ffffff; stroke-linecap: round\"/>\n     </g>\n     <g id=\"text_5\">\n      <!-- 500 -->\n      <g style=\"fill: #262626\" transform=\"translate(28.432031 205.140885)scale(0.11 -0.11)\">\n       <defs>\n        <path id=\"ArialMT-35\" d=\"M 266 1200 \nL 856 1250 \nQ 922 819 1161 601 \nQ 1400 384 1738 384 \nQ 2144 384 2425 690 \nQ 2706 997 2706 1503 \nQ 2706 1984 2436 2262 \nQ 2166 2541 1728 2541 \nQ 1456 2541 1237 2417 \nQ 1019 2294 894 2097 \nL 366 2166 \nL 809 4519 \nL 3088 4519 \nL 3088 3981 \nL 1259 3981 \nL 1013 2750 \nQ 1425 3038 1878 3038 \nQ 2478 3038 2890 2622 \nQ 3303 2206 3303 1553 \nQ 3303 931 2941 478 \nQ 2500 -78 1738 -78 \nQ 1113 -78 717 272 \nQ 322 622 266 1200 \nz\n\" transform=\"scale(0.015625)\"/>\n       </defs>\n       <use xlink:href=\"#ArialMT-35\"/>\n       <use xlink:href=\"#ArialMT-30\" x=\"55.615234\"/>\n       <use xlink:href=\"#ArialMT-30\" x=\"111.230469\"/>\n      </g>\n     </g>\n    </g>\n    <g id=\"ytick_3\">\n     <g id=\"line2d_3\">\n      <path d=\"M 56.283125 163.178801 \nL 391.083125 163.178801 \n\" clip-path=\"url(#p5245d84873)\" style=\"fill: none; stroke: #ffffff; stroke-linecap: round\"/>\n     </g>\n     <g id=\"text_6\">\n      <!-- 1000 -->\n      <g style=\"fill: #262626\" transform=\"translate(22.315 167.115597)scale(0.11 -0.11)\">\n       <defs>\n        <path id=\"ArialMT-31\" d=\"M 2384 0 \nL 1822 0 \nL 1822 3584 \nQ 1619 3391 1289 3197 \nQ 959 3003 697 2906 \nL 697 3450 \nQ 1169 3672 1522 3987 \nQ 1875 4303 2022 4600 \nL 2384 4600 \nL 2384 0 \nz\n\" transform=\"scale(0.015625)\"/>\n       </defs>\n       <use xlink:href=\"#ArialMT-31\"/>\n       <use xlink:href=\"#ArialMT-30\" x=\"55.615234\"/>\n       <use xlink:href=\"#ArialMT-30\" x=\"111.230469\"/>\n       <use xlink:href=\"#ArialMT-30\" x=\"166.845703\"/>\n      </g>\n     </g>\n    </g>\n    <g id=\"ytick_4\">\n     <g id=\"line2d_4\">\n      <path d=\"M 56.283125 125.153513 \nL 391.083125 125.153513 \n\" clip-path=\"url(#p5245d84873)\" style=\"fill: none; stroke: #ffffff; stroke-linecap: round\"/>\n     </g>\n     <g id=\"text_7\">\n      <!-- 1500 -->\n      <g style=\"fill: #262626\" transform=\"translate(22.315 129.09031)scale(0.11 -0.11)\">\n       <use xlink:href=\"#ArialMT-31\"/>\n       <use xlink:href=\"#ArialMT-35\" x=\"55.615234\"/>\n       <use xlink:href=\"#ArialMT-30\" x=\"111.230469\"/>\n       <use xlink:href=\"#ArialMT-30\" x=\"166.845703\"/>\n      </g>\n     </g>\n    </g>\n    <g id=\"ytick_5\">\n     <g id=\"line2d_5\">\n      <path d=\"M 56.283125 87.128226 \nL 391.083125 87.128226 \n\" clip-path=\"url(#p5245d84873)\" style=\"fill: none; stroke: #ffffff; stroke-linecap: round\"/>\n     </g>\n     <g id=\"text_8\">\n      <!-- 2000 -->\n      <g style=\"fill: #262626\" transform=\"translate(22.315 91.065023)scale(0.11 -0.11)\">\n       <defs>\n        <path id=\"ArialMT-32\" d=\"M 3222 541 \nL 3222 0 \nL 194 0 \nQ 188 203 259 391 \nQ 375 700 629 1000 \nQ 884 1300 1366 1694 \nQ 2113 2306 2375 2664 \nQ 2638 3022 2638 3341 \nQ 2638 3675 2398 3904 \nQ 2159 4134 1775 4134 \nQ 1369 4134 1125 3890 \nQ 881 3647 878 3216 \nL 300 3275 \nQ 359 3922 746 4261 \nQ 1134 4600 1788 4600 \nQ 2447 4600 2831 4234 \nQ 3216 3869 3216 3328 \nQ 3216 3053 3103 2787 \nQ 2991 2522 2730 2228 \nQ 2469 1934 1863 1422 \nQ 1356 997 1212 845 \nQ 1069 694 975 541 \nL 3222 541 \nz\n\" transform=\"scale(0.015625)\"/>\n       </defs>\n       <use xlink:href=\"#ArialMT-32\"/>\n       <use xlink:href=\"#ArialMT-30\" x=\"55.615234\"/>\n       <use xlink:href=\"#ArialMT-30\" x=\"111.230469\"/>\n       <use xlink:href=\"#ArialMT-30\" x=\"166.845703\"/>\n      </g>\n     </g>\n    </g>\n    <g id=\"ytick_6\">\n     <g id=\"line2d_6\">\n      <path d=\"M 56.283125 49.102939 \nL 391.083125 49.102939 \n\" clip-path=\"url(#p5245d84873)\" style=\"fill: none; stroke: #ffffff; stroke-linecap: round\"/>\n     </g>\n     <g id=\"text_9\">\n      <!-- 2500 -->\n      <g style=\"fill: #262626\" transform=\"translate(22.315 53.039736)scale(0.11 -0.11)\">\n       <use xlink:href=\"#ArialMT-32\"/>\n       <use xlink:href=\"#ArialMT-35\" x=\"55.615234\"/>\n       <use xlink:href=\"#ArialMT-30\" x=\"111.230469\"/>\n       <use xlink:href=\"#ArialMT-30\" x=\"166.845703\"/>\n      </g>\n     </g>\n    </g>\n    <g id=\"text_10\">\n     <!-- Frequency -->\n     <g style=\"fill: #262626\" transform=\"translate(15.789375 158.854688)rotate(-90)scale(0.12 -0.12)\">\n      <defs>\n       <path id=\"ArialMT-46\" d=\"M 525 0 \nL 525 4581 \nL 3616 4581 \nL 3616 4041 \nL 1131 4041 \nL 1131 2622 \nL 3281 2622 \nL 3281 2081 \nL 1131 2081 \nL 1131 0 \nL 525 0 \nz\n\" transform=\"scale(0.015625)\"/>\n       <path id=\"ArialMT-72\" d=\"M 416 0 \nL 416 3319 \nL 922 3319 \nL 922 2816 \nQ 1116 3169 1280 3281 \nQ 1444 3394 1641 3394 \nQ 1925 3394 2219 3213 \nL 2025 2691 \nQ 1819 2813 1613 2813 \nQ 1428 2813 1281 2702 \nQ 1134 2591 1072 2394 \nQ 978 2094 978 1738 \nL 978 0 \nL 416 0 \nz\n\" transform=\"scale(0.015625)\"/>\n       <path id=\"ArialMT-71\" d=\"M 2538 -1272 \nL 2538 353 \nQ 2406 169 2170 47 \nQ 1934 -75 1669 -75 \nQ 1078 -75 651 397 \nQ 225 869 225 1691 \nQ 225 2191 398 2587 \nQ 572 2984 901 3189 \nQ 1231 3394 1625 3394 \nQ 2241 3394 2594 2875 \nL 2594 3319 \nL 3100 3319 \nL 3100 -1272 \nL 2538 -1272 \nz\nM 803 1669 \nQ 803 1028 1072 708 \nQ 1341 388 1716 388 \nQ 2075 388 2334 692 \nQ 2594 997 2594 1619 \nQ 2594 2281 2320 2615 \nQ 2047 2950 1678 2950 \nQ 1313 2950 1058 2639 \nQ 803 2328 803 1669 \nz\n\" transform=\"scale(0.015625)\"/>\n       <path id=\"ArialMT-75\" d=\"M 2597 0 \nL 2597 488 \nQ 2209 -75 1544 -75 \nQ 1250 -75 995 37 \nQ 741 150 617 320 \nQ 494 491 444 738 \nQ 409 903 409 1263 \nL 409 3319 \nL 972 3319 \nL 972 1478 \nQ 972 1038 1006 884 \nQ 1059 663 1231 536 \nQ 1403 409 1656 409 \nQ 1909 409 2131 539 \nQ 2353 669 2445 892 \nQ 2538 1116 2538 1541 \nL 2538 3319 \nL 3100 3319 \nL 3100 0 \nL 2597 0 \nz\n\" transform=\"scale(0.015625)\"/>\n       <path id=\"ArialMT-63\" d=\"M 2588 1216 \nL 3141 1144 \nQ 3050 572 2676 248 \nQ 2303 -75 1759 -75 \nQ 1078 -75 664 370 \nQ 250 816 250 1647 \nQ 250 2184 428 2587 \nQ 606 2991 970 3192 \nQ 1334 3394 1763 3394 \nQ 2303 3394 2647 3120 \nQ 2991 2847 3088 2344 \nL 2541 2259 \nQ 2463 2594 2264 2762 \nQ 2066 2931 1784 2931 \nQ 1359 2931 1093 2626 \nQ 828 2322 828 1663 \nQ 828 994 1084 691 \nQ 1341 388 1753 388 \nQ 2084 388 2306 591 \nQ 2528 794 2588 1216 \nz\n\" transform=\"scale(0.015625)\"/>\n       <path id=\"ArialMT-79\" d=\"M 397 -1278 \nL 334 -750 \nQ 519 -800 656 -800 \nQ 844 -800 956 -737 \nQ 1069 -675 1141 -563 \nQ 1194 -478 1313 -144 \nQ 1328 -97 1363 -6 \nL 103 3319 \nL 709 3319 \nL 1400 1397 \nQ 1534 1031 1641 628 \nQ 1738 1016 1872 1384 \nL 2581 3319 \nL 3144 3319 \nL 1881 -56 \nQ 1678 -603 1566 -809 \nQ 1416 -1088 1222 -1217 \nQ 1028 -1347 759 -1347 \nQ 597 -1347 397 -1278 \nz\n\" transform=\"scale(0.015625)\"/>\n      </defs>\n      <use xlink:href=\"#ArialMT-46\"/>\n      <use xlink:href=\"#ArialMT-72\" x=\"61.083984\"/>\n      <use xlink:href=\"#ArialMT-65\" x=\"94.384766\"/>\n      <use xlink:href=\"#ArialMT-71\" x=\"150\"/>\n      <use xlink:href=\"#ArialMT-75\" x=\"205.615234\"/>\n      <use xlink:href=\"#ArialMT-65\" x=\"261.230469\"/>\n      <use xlink:href=\"#ArialMT-6e\" x=\"316.845703\"/>\n      <use xlink:href=\"#ArialMT-63\" x=\"372.460938\"/>\n      <use xlink:href=\"#ArialMT-79\" x=\"422.460938\"/>\n     </g>\n    </g>\n   </g>\n   <g id=\"patch_3\">\n    <path d=\"M 73.023125 239.229375 \nL 206.943125 239.229375 \nL 206.943125 32.143661 \nL 73.023125 32.143661 \nz\n\" clip-path=\"url(#p5245d84873)\" style=\"fill: #5875a4; stroke: #ffffff; stroke-linejoin: miter\"/>\n   </g>\n   <g id=\"patch_4\">\n    <path d=\"M 240.423125 239.229375 \nL 374.343125 239.229375 \nL 374.343125 233.373481 \nL 240.423125 233.373481 \nz\n\" clip-path=\"url(#p5245d84873)\" style=\"fill: #cc8963; stroke: #ffffff; stroke-linejoin: miter\"/>\n   </g>\n   <g id=\"line2d_7\">\n    <path clip-path=\"url(#p5245d84873)\" style=\"fill: none; stroke: #424242; stroke-width: 2.7; stroke-linecap: round\"/>\n   </g>\n   <g id=\"line2d_8\">\n    <path clip-path=\"url(#p5245d84873)\" style=\"fill: none; stroke: #424242; stroke-width: 2.7; stroke-linecap: round\"/>\n   </g>\n   <g id=\"patch_5\">\n    <path d=\"M 56.283125 239.229375 \nL 56.283125 21.789375 \n\" style=\"fill: none; stroke: #ffffff; stroke-width: 1.25; stroke-linejoin: miter; stroke-linecap: square\"/>\n   </g>\n   <g id=\"patch_6\">\n    <path d=\"M 391.083125 239.229375 \nL 391.083125 21.789375 \n\" style=\"fill: none; stroke: #ffffff; stroke-width: 1.25; stroke-linejoin: miter; stroke-linecap: square\"/>\n   </g>\n   <g id=\"patch_7\">\n    <path d=\"M 56.283125 239.229375 \nL 391.083125 239.229375 \n\" style=\"fill: none; stroke: #ffffff; stroke-width: 1.25; stroke-linejoin: miter; stroke-linecap: square\"/>\n   </g>\n   <g id=\"patch_8\">\n    <path d=\"M 56.283125 21.789375 \nL 391.083125 21.789375 \n\" style=\"fill: none; stroke: #ffffff; stroke-width: 1.25; stroke-linejoin: miter; stroke-linecap: square\"/>\n   </g>\n   <g id=\"text_11\">\n    <!-- Class distribution -->\n    <g style=\"fill: #262626\" transform=\"translate(177.999688 15.789375)scale(0.12 -0.12)\">\n     <defs>\n      <path id=\"ArialMT-20\" transform=\"scale(0.015625)\"/>\n      <path id=\"ArialMT-64\" d=\"M 2575 0 \nL 2575 419 \nQ 2259 -75 1647 -75 \nQ 1250 -75 917 144 \nQ 584 363 401 755 \nQ 219 1147 219 1656 \nQ 219 2153 384 2558 \nQ 550 2963 881 3178 \nQ 1213 3394 1622 3394 \nQ 1922 3394 2156 3267 \nQ 2391 3141 2538 2938 \nL 2538 4581 \nL 3097 4581 \nL 3097 0 \nL 2575 0 \nz\nM 797 1656 \nQ 797 1019 1065 703 \nQ 1334 388 1700 388 \nQ 2069 388 2326 689 \nQ 2584 991 2584 1609 \nQ 2584 2291 2321 2609 \nQ 2059 2928 1675 2928 \nQ 1300 2928 1048 2622 \nQ 797 2316 797 1656 \nz\n\" transform=\"scale(0.015625)\"/>\n      <path id=\"ArialMT-62\" d=\"M 941 0 \nL 419 0 \nL 419 4581 \nL 981 4581 \nL 981 2947 \nQ 1338 3394 1891 3394 \nQ 2197 3394 2470 3270 \nQ 2744 3147 2920 2923 \nQ 3097 2700 3197 2384 \nQ 3297 2069 3297 1709 \nQ 3297 856 2875 390 \nQ 2453 -75 1863 -75 \nQ 1275 -75 941 416 \nL 941 0 \nz\nM 934 1684 \nQ 934 1088 1097 822 \nQ 1363 388 1816 388 \nQ 2184 388 2453 708 \nQ 2722 1028 2722 1663 \nQ 2722 2313 2464 2622 \nQ 2206 2931 1841 2931 \nQ 1472 2931 1203 2611 \nQ 934 2291 934 1684 \nz\n\" transform=\"scale(0.015625)\"/>\n     </defs>\n     <use xlink:href=\"#ArialMT-43\"/>\n     <use xlink:href=\"#ArialMT-6c\" x=\"72.216797\"/>\n     <use xlink:href=\"#ArialMT-61\" x=\"94.433594\"/>\n     <use xlink:href=\"#ArialMT-73\" x=\"150.048828\"/>\n     <use xlink:href=\"#ArialMT-73\" x=\"200.048828\"/>\n     <use xlink:href=\"#ArialMT-20\" x=\"250.048828\"/>\n     <use xlink:href=\"#ArialMT-64\" x=\"277.832031\"/>\n     <use xlink:href=\"#ArialMT-69\" x=\"333.447266\"/>\n     <use xlink:href=\"#ArialMT-73\" x=\"355.664062\"/>\n     <use xlink:href=\"#ArialMT-74\" x=\"405.664062\"/>\n     <use xlink:href=\"#ArialMT-72\" x=\"433.447266\"/>\n     <use xlink:href=\"#ArialMT-69\" x=\"466.748047\"/>\n     <use xlink:href=\"#ArialMT-62\" x=\"488.964844\"/>\n     <use xlink:href=\"#ArialMT-75\" x=\"544.580078\"/>\n     <use xlink:href=\"#ArialMT-74\" x=\"600.195312\"/>\n     <use xlink:href=\"#ArialMT-69\" x=\"627.978516\"/>\n     <use xlink:href=\"#ArialMT-6f\" x=\"650.195312\"/>\n     <use xlink:href=\"#ArialMT-6e\" x=\"705.810547\"/>\n    </g>\n   </g>\n  </g>\n </g>\n <defs>\n  <clipPath id=\"p5245d84873\">\n   <rect x=\"56.283125\" y=\"21.789375\" width=\"334.8\" height=\"217.44\"/>\n  </clipPath>\n </defs>\n</svg>\n",
      "image/png": "[encoded data removed]"
     },
     "metadata": {}
    }
   ],
   "source": [
    "sns.set(style=\"darkgrid\")\n",
    "sns.barplot(x=\"Class\", y=\"cnt\", data = {\"Class\": ['negative', 'positive'], \"cnt\": [len(df[df['class'].str.contains('negative')]), len(df[df['class'].str.contains('hyperthyroid') | df['class'].str.contains('T3 toxic') | df['class'].str.contains('goitre')])]})\n",
    "plt.title(\"Class distribution\")\n",
    "plt.xlabel(\"Classes\")\n",
    "plt.ylabel(\"Frequency\")\n",
    "plt.show()"
   ]
  },
  {
   "cell_type": "code",
   "execution_count": 39,
   "metadata": {},
   "outputs": [
    {
     "output_type": "execute_result",
     "data": {
      "text/plain": [
       "array(['T3 toxic', 'goitre', 'hyperthyroid'], dtype='<U32')"
      ]
     },
     "metadata": {},
     "execution_count": 39
    }
   ],
   "source": [
    "x = np.array([])\n",
    "for i in df[~df['class'].str.contains('negative')]['class'].values:\n",
    "    i = i.split('.')\n",
    "    x = np.append(x, i[0])\n",
    "np.unique(x)"
   ]
  },
  {
   "cell_type": "code",
   "execution_count": 40,
   "metadata": {},
   "outputs": [
    {
     "output_type": "execute_result",
     "data": {
      "text/plain": [
       "62"
      ]
     },
     "metadata": {},
     "execution_count": 40
    }
   ],
   "source": [
    "len(np.where(x == 'hyperthyroid')[0])"
   ]
  },
  {
   "cell_type": "code",
   "execution_count": 41,
   "metadata": {},
   "outputs": [
    {
     "output_type": "stream",
     "name": "stdout",
     "text": [
      "<class 'pandas.core.frame.DataFrame'>\nRangeIndex: 2800 entries, 0 to 2799\nData columns (total 23 columns):\n #   Column                     Non-Null Count  Dtype \n---  ------                     --------------  ----- \n 0   age                        2800 non-null   object\n 1   sex                        2800 non-null   object\n 2   on thyroxine               2800 non-null   object\n 3   query on thyroxine         2800 non-null   object\n 4   on antithyroid medication  2800 non-null   object\n 5   sick                       2800 non-null   object\n 6   pregnant                   2800 non-null   object\n 7   thyroid surgery            2800 non-null   object\n 8   I131 treatment             2800 non-null   object\n 9   query hypothyroid          2800 non-null   object\n 10  query hyperthyroid         2800 non-null   object\n 11  lithium                    2800 non-null   object\n 12  goitre                     2800 non-null   object\n 13  tumor                      2800 non-null   object\n 14  hypopituitary              2800 non-null   object\n 15  psych                      2800 non-null   object\n 16  TSH                        2800 non-null   object\n 17  T3                         2800 non-null   object\n 18  TT4                        2800 non-null   object\n 19  T4U                        2800 non-null   object\n 20  FTI                        2800 non-null   object\n 21  referral                   2800 non-null   object\n 22  class                      2800 non-null   object\ndtypes: object(23)\nmemory usage: 503.2+ KB\n"
     ]
    }
   ],
   "source": [
    "df.info()"
   ]
  },
  {
   "cell_type": "code",
   "execution_count": 42,
   "metadata": {},
   "outputs": [
    {
     "output_type": "stream",
     "name": "stdout",
     "text": [
      "\n\nage\n['41' '23' '46' '70' '18' '59' '80' '66' '68' '84' '67' '71' '28' '65'\n '42' '63' '51' '81' '54' '55' '60' '25' '73' '34' '78' '37' '85' '26'\n '58' '64' '44' '48' '61' '35' '83' '21' '87' '53' '77' '27' '69' '74'\n '38' '76' '45' '36' '22' '43' '72' '82' '31' '39' '49' '62' '57' '1' '50'\n '30' '29' '75' '19' '7' '79' '17' '24' '15' '32' '47' '16' '52' '33' '13'\n '10' '89' '56' '20' '90' '40' '88' '14' '86' '94' '12' '4' '11' '8' '5'\n '455' '2' '91' '6' '?' '93' '92']\n\n\nsex\n['F' 'M' '?']\n\n\non thyroxine\n['f' 't']\n\n\nquery on thyroxine\n['f' 't']\n\n\non antithyroid medication\n['f' 't']\n\n\nsick\n['f' 't']\n\n\npregnant\n['f' 't']\n\n\nthyroid surgery\n['f' 't']\n\n\nI131 treatment\n['f' 't']\n\n\nquery hypothyroid\n['f' 't']\n\n\nquery hyperthyroid\n['f' 't']\n\n\nlithium\n['f' 't']\n\n\ngoitre\n['f' 't']\n\n\ntumor\n['f' 't']\n\n\nhypopituitary\n['f' 't']\n\n\npsych\n['f' 't']\n\n\nTSH\n['1.3' '4.1' '0.98' '0.16' '0.72' '0.03' '?' '2.2' '0.6' '2.4' '1.1' '2.8'\n '3.3' '12' '1.2' '1.5' '6' '2.1' '0.1' '0.8' '1.9' '3.1' '0.2' '13' '0.3'\n '0.035' '2.5' '0.5' '1.7' '7.3' '1.8' '0.26' '45' '5.4' '0.99' '0.25'\n '0.92' '0.15' '0.64' '1' '0.4' '2' '2.6' '14.8' '15' '19' '0.02' '3'\n '2.9' '3.2' '9' '1.6' '4.3' '0.005' '0.31' '0.61' '0.05' '7.8' '160'\n '0.025' '1.4' '0.01' '8.8' '151' '0.04' '3.9' '9.4' '2.7' '2.3' '0.94'\n '0.045' '3.5' '0.88' '0.08' '4.5' '0.68' '0.7' '0.67' '27' '6.1' '0.75'\n '0.55' '26' '5.2' '0.77' '0.07' '0.9' '11.4' '143' '0.45' '0.57' '0.65'\n '0.015' '16' '108' '0.83' '9.2' '86' '0.62' '0.59' '9.1' '5.9' '52'\n '0.33' '31' '5.8' '0.28' '51' '6.3' '4.4' '9.6' '3.4' '0.09' '24' '0.76'\n '42' '25' '10' '4.6' '8.6' '0.66' '6.2' '0.79' '28' '0.86' '9.7' '0.84'\n '17' '18' '55' '14' '3.7' '0.87' '6.7' '0.74' '7.6' '0.065' '0.29' '0.37'\n '8' '11' '0.48' '44' '7.9' '5' '7.2' '0.89' '0.93' '0.97' '0.12' '6.4'\n '33' '0.85' '7.1' '0.73' '199' '8.2' '188' '0.22' '98' '22' '6.6' '5.1'\n '0.06' '0.42' '3.8' '35' '4' '0.78' '0.63' '0.52' '60' '0.43' '5.6' '6.9'\n '3.6' '29' '0.38' '4.9' '0.41' '9.9' '7.5' '34' '6.5' '4.7' '103' '0.95'\n '0.14' '0.35' '4.2' '0.81' '0.54' '0.58' '8.9' '5.5' '0.34' '9.3' '0.13'\n '54' '0.39' '8.3' '478' '21' '6.8' '0.32' '0.23' '0.24' '8.1' '0.91'\n '5.3' '100' '0.27' '1.01' '58' '41' '183' '18.4' '0.47' '0.17' '12.1'\n '0.19' '0.82' '43' '0.44' '70' '7.7' '8.4' '0.69' '8.5' '0.21' '82'\n '0.055' '0.96' '0.71' '38' '0.36' '9.8' '7' '0.46' '11.1' '39' '76' '5.7'\n '32' '126' '26.4' '0.53' '0.49' '36' '178' '145' '47' '4.8' '10.3' '89'\n '7.4' '472' '0.51' '116' '61' '99' '46' '78' '468']\n\n\nT3\n['2.5' '2' '?' '1.9' '1.2' '0.6' '2.2' '1.6' '3.8' '1.7' '1.8' '2.6' '2.1'\n '0.3' '5.5' '1.4' '3.1' '1.5' '2.3' '2.4' '2.7' '0.9' '1' '2.8' '2.9'\n '0.8' '1.3' '0.4' '3.3' '3.5' '3.4' '1.1' '4.2' '3.7' '3' '0.7' '4.8'\n '4.3' '0.05' '3.2' '5.4' '4' '0.5' '0.2' '3.6' '5.2' '5' '6' '5.3' '3.9'\n '4.6' '4.5' '7.3' '4.7' '6.7' '4.1' '6.1' '0.1' '4.9' '10.6' '5.1' '7'\n '6.2' '4.4' '7.1']\n\n\nTT4\n['125' '102' '109' '175' '61' '183' '72' '80' '123' '83' '115' '152' '171'\n '97' '99' '70' '117' '121' '130' '108' '104' '134' '199' '57' '129' '113'\n '119' '84' '81' '95' '66' '101' '147' '120' '69' '?' '39' '87' '63' '133'\n '86' '163' '162' '103' '96' '151' '112' '82' '138' '71' '77' '93' '107'\n '237' '110' '67' '88' '160' '118' '136' '114' '116' '94' '161' '11' '32'\n '124' '137' '92' '135' '105' '150' '126' '146' '91' '217' '141' '159'\n '122' '100' '111' '140' '205' '225' '85' '90' '74' '219' '127' '132'\n '128' '106' '144' '131' '56' '79' '142' '98' '177' '139' '78' '189' '180'\n '73' '145' '184' '38' '156' '75' '148' '14' '76' '54' '58' '27' '65'\n '193' '13' '143' '12' '64' '257' '164' '59' '167' '18' '41' '176' '37'\n '33' '44' '45' '154' '174' '203' '244' '62' '158' '60' '187' '250' '181'\n '157' '223' '272' '166' '213' '235' '10' '68' '231' '191' '48' '5.8'\n '169' '149' '210' '40' '155' '232' '42' '204' '430' '198' '230' '15'\n '170' '165' '47' '168' '194' '89' '52' '179' '192' '172' '4.8' '50' '182'\n '197' '214' '246' '196' '207' '19' '153' '22' '46' '200' '35' '226' '201'\n '233' '206' '31' '255' '178' '239' '195' '6' '36' '2' '3' '289' '240'\n '209' '43' '34' '252' '29' '263' '301' '23' '188' '211' '253' '21' '173']\n\n\nT4U\n['1.14' '?' '0.91' '0.87' '1.3' '0.92' '0.7' '0.93' '0.89' '0.95' '0.99'\n '1.13' '0.86' '0.96' '0.94' '0.9' '1.02' '1.05' '0.62' '1.06' '1.55'\n '0.83' '1.09' '1.07' '1.27' '0.76' '1.16' '1' '0.56' '0.81' '0.68' '0.78'\n '0.85' '1.35' '1.15' '0.82' '1.03' '1.58' '0.79' '1.17' '0.71' '0.72'\n '0.88' '1.11' '1.2' '1.1' '1.33' '0.77' '1.24' '0.53' '1.44' '1.63'\n '1.51' '1.42' '1.23' '1.01' '0.98' '0.61' '1.12' '1.43' '1.25' '1.41'\n '1.68' '0.97' '0.84' '0.8' '1.04' '0.73' '1.08' '1.26' '1.46' '1.29'\n '1.34' '1.66' '1.21' '1.19' '0.75' '0.52' '1.83' '1.39' '1.5' '1.93'\n '1.18' '0.74' '0.58' '1.82' '0.6' '1.67' '1.22' '0.66' '0.67' '1.31'\n '0.54' '1.77' '1.59' '1.97' '1.69' '1.38' '1.28' '1.4' '0.69' '0.65'\n '1.74' '2.03' '1.73' '1.65' '1.36' '1.52' '0.57' '1.53' '1.84' '1.57'\n '1.75' '1.32' '1.37' '0.64' '1.79' '1.8' '0.48' '1.71' '1.62' '1.76'\n '1.56' '1.48' '0.59' '0.31' '1.94' '2.12' '1.47' '0.63' '0.944' '0.49'\n '1.88' '0.5' '0.38' '1.49' '0.41' '1.61' '1.7']\n\n\nFTI\n['109' '?' '120' '70' '141' '78' '115' '132' '93' '121' '153' '151' '107'\n '119' '87' '81' '104' '130' '106' '116' '131' '190' '92' '102' '76' '98'\n '90' '61' '94' '129' '95' '91' '33' '113' '148' '140' '171' '155' '186'\n '122' '136' '110' '111' '97' '72' '100' '88' '67' '84' '103' '135' '203'\n '112' '117' '180' '142' '145' '156' '96' '134' '8.9' '60' '139' '41' '99'\n '89' '146' '124' '105' '85' '157' '143' '71' '221' '28' '108' '137' '83'\n '74' '170' '65' '101' '127' '274' '154' '114' '62' '86' '126' '125' '64'\n '172' '162' '79' '118' '73' '152' '163' '149' '14' '51' '165' '77' '32'\n '69' '80' '11' '54' '164' '123' '144' '10' '214' '200' '160' '53' '16'\n '138' '169' '56' '47' '133' '43' '68' '179' '224' '220' '82' '362' '182'\n '75' '66' '161' '57' '58' '312' '63' '128' '147' '158' '281' '207' '216'\n '251' '194' '46' '7' '42' '174' '395' '185' '13' '201' '48' '173' '167'\n '188' '150' '235' '175' '159' '5.4' '189' '59' '166' '34' '228' '232'\n '217' '177' '176' '195' '219' '17' '210' '168' '205' '39' '187' '50'\n '349' '52' '206' '253' '242' '244' '213' '178' '247' '215' '198' '19'\n '237' '37' '7.6' '24' '2' '3' '191' '223' '9' '29' '222' '204' '26' '218'\n '197' '49' '209' '183']\n\n\nreferral\n['SVHC' 'other' 'SVI' 'STMW' 'SVHD']\n\n\nclass\n['negative.|3733' 'negative.|1442' 'negative.|2965' ... 'negative.|1287'\n 'negative.|3496' 'negative.|724']\n"
     ]
    }
   ],
   "source": [
    "for i in df.columns:\n",
    "    print('\\n')\n",
    "    print(i)\n",
    "    print(df[i].unique())"
   ]
  },
  {
   "cell_type": "code",
   "execution_count": 43,
   "metadata": {},
   "outputs": [],
   "source": [
    "df.replace(\"?\", np.nan, inplace=True)"
   ]
  },
  {
   "cell_type": "code",
   "execution_count": 44,
   "metadata": {},
   "outputs": [
    {
     "output_type": "execute_result",
     "data": {
      "text/plain": [
       "age                            1\n",
       "sex                          110\n",
       "on thyroxine                   0\n",
       "query on thyroxine             0\n",
       "on antithyroid medication      0\n",
       "sick                           0\n",
       "pregnant                       0\n",
       "thyroid surgery                0\n",
       "I131 treatment                 0\n",
       "query hypothyroid              0\n",
       "query hyperthyroid             0\n",
       "lithium                        0\n",
       "goitre                         0\n",
       "tumor                          0\n",
       "hypopituitary                  0\n",
       "psych                          0\n",
       "TSH                          284\n",
       "T3                           585\n",
       "TT4                          184\n",
       "T4U                          297\n",
       "FTI                          295\n",
       "referral                       0\n",
       "class                          0\n",
       "dtype: int64"
      ]
     },
     "metadata": {},
     "execution_count": 44
    }
   ],
   "source": [
    "df.isnull().sum()"
   ]
  },
  {
   "cell_type": "code",
   "execution_count": 45,
   "metadata": {},
   "outputs": [
    {
     "output_type": "execute_result",
     "data": {
      "text/plain": [
       "age                            0\n",
       "sex                          110\n",
       "on thyroxine                   0\n",
       "query on thyroxine             0\n",
       "on antithyroid medication      0\n",
       "sick                           0\n",
       "pregnant                       0\n",
       "thyroid surgery                0\n",
       "I131 treatment                 0\n",
       "query hypothyroid              0\n",
       "query hyperthyroid             0\n",
       "lithium                        0\n",
       "goitre                         0\n",
       "tumor                          0\n",
       "hypopituitary                  0\n",
       "psych                          0\n",
       "TSH                            0\n",
       "T3                             0\n",
       "TT4                            0\n",
       "T4U                            0\n",
       "FTI                            0\n",
       "referral                       0\n",
       "class                          0\n",
       "dtype: int64"
      ]
     },
     "metadata": {},
     "execution_count": 45
    }
   ],
   "source": [
    "#Handling of Missing data\n",
    "#Numerical variables\n",
    "#Convert the type of numerical variables\n",
    "numerical_variables = ['age', 'TSH', 'T3', 'TT4', 'T4U', 'FTI']\n",
    "df[\"age\"] = df.age.astype(float)\n",
    "df[\"TSH\"] = df.TSH.astype(float)\n",
    "df[\"T3\"] = df.T3.astype(float)\n",
    "df[\"TT4\"] = df.TT4.astype(float)\n",
    "df[\"T4U\"] = df.T4U.astype(float)\n",
    "df[\"FTI\"] = df.FTI.astype(float)\n",
    "#Fill empty spaces by using mean value\n",
    "for i in numerical_variables:\n",
    "    df[i] = df[i].fillna(df[i].mean())\n",
    "\n",
    "df.isnull().sum()"
   ]
  },
  {
   "cell_type": "code",
   "execution_count": 46,
   "metadata": {},
   "outputs": [
    {
     "output_type": "execute_result",
     "data": {
      "text/plain": [
       "age                          0\n",
       "sex                          0\n",
       "on thyroxine                 0\n",
       "query on thyroxine           0\n",
       "on antithyroid medication    0\n",
       "sick                         0\n",
       "pregnant                     0\n",
       "thyroid surgery              0\n",
       "I131 treatment               0\n",
       "query hypothyroid            0\n",
       "query hyperthyroid           0\n",
       "lithium                      0\n",
       "goitre                       0\n",
       "tumor                        0\n",
       "hypopituitary                0\n",
       "psych                        0\n",
       "TSH                          0\n",
       "T3                           0\n",
       "TT4                          0\n",
       "T4U                          0\n",
       "FTI                          0\n",
       "referral                     0\n",
       "class                        0\n",
       "dtype: int64"
      ]
     },
     "metadata": {},
     "execution_count": 46
    }
   ],
   "source": [
    "df['sex'] = df['sex'].fillna(df['sex'].mode()[0])\n",
    "df.isnull().sum()"
   ]
  },
  {
   "cell_type": "code",
   "execution_count": 47,
   "metadata": {},
   "outputs": [
    {
     "output_type": "execute_result",
     "data": {
      "text/plain": [
       "Empty DataFrame\n",
       "Columns: [age, sex, on thyroxine, query on thyroxine, on antithyroid medication, sick, pregnant, thyroid surgery, I131 treatment, query hypothyroid, query hyperthyroid, lithium, goitre, tumor, hypopituitary, psych, TSH, T3, TT4, T4U, FTI, referral, class]\n",
       "Index: []\n",
       "\n",
       "[0 rows x 23 columns]"
      ],
      "text/html": "<div>\n<style scoped>\n    .dataframe tbody tr th:only-of-type {\n        vertical-align: middle;\n    }\n\n    .dataframe tbody tr th {\n        vertical-align: top;\n    }\n\n    .dataframe thead th {\n        text-align: right;\n    }\n</style>\n<table border=\"1\" class=\"dataframe\">\n  <thead>\n    <tr style=\"text-align: right;\">\n      <th></th>\n      <th>age</th>\n      <th>sex</th>\n      <th>on thyroxine</th>\n      <th>query on thyroxine</th>\n      <th>on antithyroid medication</th>\n      <th>sick</th>\n      <th>pregnant</th>\n      <th>thyroid surgery</th>\n      <th>I131 treatment</th>\n      <th>query hypothyroid</th>\n      <th>...</th>\n      <th>tumor</th>\n      <th>hypopituitary</th>\n      <th>psych</th>\n      <th>TSH</th>\n      <th>T3</th>\n      <th>TT4</th>\n      <th>T4U</th>\n      <th>FTI</th>\n      <th>referral</th>\n      <th>class</th>\n    </tr>\n  </thead>\n  <tbody>\n  </tbody>\n</table>\n<p>0 rows × 23 columns</p>\n</div>"
     },
     "metadata": {},
     "execution_count": 47
    }
   ],
   "source": [
    "df[df['sex'].isnull()]"
   ]
  },
  {
   "cell_type": "code",
   "execution_count": 48,
   "metadata": {},
   "outputs": [],
   "source": [
    "df['sex'] = df['sex'].apply(lambda x : 0 if x == 'F' else 1)"
   ]
  },
  {
   "cell_type": "code",
   "execution_count": 49,
   "metadata": {},
   "outputs": [
    {
     "output_type": "execute_result",
     "data": {
      "text/plain": [
       "    age  sex  on thyroxine  query on thyroxine  on antithyroid medication  \\\n",
       "0  41.0    0             0                   0                          0   \n",
       "1  23.0    0             0                   0                          0   \n",
       "2  46.0    1             0                   0                          0   \n",
       "3  70.0    0             1                   0                          0   \n",
       "4  70.0    0             0                   0                          0   \n",
       "\n",
       "   sick  pregnant  thyroid surgery  I131 treatment  query hypothyroid  ...  \\\n",
       "0     0         0                0               0                  0  ...   \n",
       "1     0         0                0               0                  0  ...   \n",
       "2     0         0                0               0                  0  ...   \n",
       "3     0         0                0               0                  0  ...   \n",
       "4     0         0                0               0                  0  ...   \n",
       "\n",
       "   tumor  hypopituitary  psych   TSH        T3    TT4       T4U         FTI  \\\n",
       "0      0              0      0  1.30  2.500000  125.0  1.140000  109.000000   \n",
       "1      0              0      0  4.10  2.000000  102.0  0.997912  110.787984   \n",
       "2      0              0      0  0.98  2.024966  109.0  0.910000  120.000000   \n",
       "3      0              0      0  0.16  1.900000  175.0  0.997912  110.787984   \n",
       "4      0              0      0  0.72  1.200000   61.0  0.870000   70.000000   \n",
       "\n",
       "   referral           class  \n",
       "0      SVHC  negative.|3733  \n",
       "1     other  negative.|1442  \n",
       "2     other  negative.|2965  \n",
       "3     other   negative.|806  \n",
       "4       SVI  negative.|2807  \n",
       "\n",
       "[5 rows x 23 columns]"
      ],
      "text/html": "<div>\n<style scoped>\n    .dataframe tbody tr th:only-of-type {\n        vertical-align: middle;\n    }\n\n    .dataframe tbody tr th {\n        vertical-align: top;\n    }\n\n    .dataframe thead th {\n        text-align: right;\n    }\n</style>\n<table border=\"1\" class=\"dataframe\">\n  <thead>\n    <tr style=\"text-align: right;\">\n      <th></th>\n      <th>age</th>\n      <th>sex</th>\n      <th>on thyroxine</th>\n      <th>query on thyroxine</th>\n      <th>on antithyroid medication</th>\n      <th>sick</th>\n      <th>pregnant</th>\n      <th>thyroid surgery</th>\n      <th>I131 treatment</th>\n      <th>query hypothyroid</th>\n      <th>...</th>\n      <th>tumor</th>\n      <th>hypopituitary</th>\n      <th>psych</th>\n      <th>TSH</th>\n      <th>T3</th>\n      <th>TT4</th>\n      <th>T4U</th>\n      <th>FTI</th>\n      <th>referral</th>\n      <th>class</th>\n    </tr>\n  </thead>\n  <tbody>\n    <tr>\n      <th>0</th>\n      <td>41.0</td>\n      <td>0</td>\n      <td>0</td>\n      <td>0</td>\n      <td>0</td>\n      <td>0</td>\n      <td>0</td>\n      <td>0</td>\n      <td>0</td>\n      <td>0</td>\n      <td>...</td>\n      <td>0</td>\n      <td>0</td>\n      <td>0</td>\n      <td>1.30</td>\n      <td>2.500000</td>\n      <td>125.0</td>\n      <td>1.140000</td>\n      <td>109.000000</td>\n      <td>SVHC</td>\n      <td>negative.|3733</td>\n    </tr>\n    <tr>\n      <th>1</th>\n      <td>23.0</td>\n      <td>0</td>\n      <td>0</td>\n      <td>0</td>\n      <td>0</td>\n      <td>0</td>\n      <td>0</td>\n      <td>0</td>\n      <td>0</td>\n      <td>0</td>\n      <td>...</td>\n      <td>0</td>\n      <td>0</td>\n      <td>0</td>\n      <td>4.10</td>\n      <td>2.000000</td>\n      <td>102.0</td>\n      <td>0.997912</td>\n      <td>110.787984</td>\n      <td>other</td>\n      <td>negative.|1442</td>\n    </tr>\n    <tr>\n      <th>2</th>\n      <td>46.0</td>\n      <td>1</td>\n      <td>0</td>\n      <td>0</td>\n      <td>0</td>\n      <td>0</td>\n      <td>0</td>\n      <td>0</td>\n      <td>0</td>\n      <td>0</td>\n      <td>...</td>\n      <td>0</td>\n      <td>0</td>\n      <td>0</td>\n      <td>0.98</td>\n      <td>2.024966</td>\n      <td>109.0</td>\n      <td>0.910000</td>\n      <td>120.000000</td>\n      <td>other</td>\n      <td>negative.|2965</td>\n    </tr>\n    <tr>\n      <th>3</th>\n      <td>70.0</td>\n      <td>0</td>\n      <td>1</td>\n      <td>0</td>\n      <td>0</td>\n      <td>0</td>\n      <td>0</td>\n      <td>0</td>\n      <td>0</td>\n      <td>0</td>\n      <td>...</td>\n      <td>0</td>\n      <td>0</td>\n      <td>0</td>\n      <td>0.16</td>\n      <td>1.900000</td>\n      <td>175.0</td>\n      <td>0.997912</td>\n      <td>110.787984</td>\n      <td>other</td>\n      <td>negative.|806</td>\n    </tr>\n    <tr>\n      <th>4</th>\n      <td>70.0</td>\n      <td>0</td>\n      <td>0</td>\n      <td>0</td>\n      <td>0</td>\n      <td>0</td>\n      <td>0</td>\n      <td>0</td>\n      <td>0</td>\n      <td>0</td>\n      <td>...</td>\n      <td>0</td>\n      <td>0</td>\n      <td>0</td>\n      <td>0.72</td>\n      <td>1.200000</td>\n      <td>61.0</td>\n      <td>0.870000</td>\n      <td>70.000000</td>\n      <td>SVI</td>\n      <td>negative.|2807</td>\n    </tr>\n  </tbody>\n</table>\n<p>5 rows × 23 columns</p>\n</div>"
     },
     "metadata": {},
     "execution_count": 49
    }
   ],
   "source": [
    "for i in range(2, 16):\n",
    "    df[df.columns[i]] = df[df.columns[i]].apply(lambda x : 0 if x == 'f' else 1)\n",
    "df.head()"
   ]
  },
  {
   "cell_type": "code",
   "execution_count": 50,
   "metadata": {},
   "outputs": [
    {
     "output_type": "execute_result",
     "data": {
      "text/plain": [
       "age                          0\n",
       "sex                          0\n",
       "on thyroxine                 0\n",
       "query on thyroxine           0\n",
       "on antithyroid medication    0\n",
       "sick                         0\n",
       "pregnant                     0\n",
       "thyroid surgery              0\n",
       "I131 treatment               0\n",
       "query hypothyroid            0\n",
       "query hyperthyroid           0\n",
       "lithium                      0\n",
       "goitre                       0\n",
       "tumor                        0\n",
       "hypopituitary                0\n",
       "psych                        0\n",
       "TSH                          0\n",
       "T3                           0\n",
       "TT4                          0\n",
       "T4U                          0\n",
       "FTI                          0\n",
       "referral                     0\n",
       "class                        0\n",
       "dtype: int64"
      ]
     },
     "metadata": {},
     "execution_count": 50
    }
   ],
   "source": [
    "df.isnull().sum()"
   ]
  },
  {
   "cell_type": "code",
   "execution_count": 51,
   "metadata": {},
   "outputs": [
    {
     "output_type": "execute_result",
     "data": {
      "text/plain": [
       "0       0\n",
       "1       0\n",
       "2       0\n",
       "3       0\n",
       "4       0\n",
       "       ..\n",
       "2795    0\n",
       "2796    0\n",
       "2797    0\n",
       "2798    0\n",
       "2799    0\n",
       "Name: class, Length: 2800, dtype: int64"
      ]
     },
     "metadata": {},
     "execution_count": 51
    }
   ],
   "source": [
    "df['class'] = df['class'].apply(lambda x : 0 if 'negative' in x else 1)\n",
    "df['class']"
   ]
  },
  {
   "cell_type": "code",
   "execution_count": 52,
   "metadata": {},
   "outputs": [
    {
     "output_type": "stream",
     "name": "stdout",
     "text": [
      "<class 'pandas.core.frame.DataFrame'>\nRangeIndex: 2800 entries, 0 to 2799\nData columns (total 23 columns):\n #   Column                     Non-Null Count  Dtype  \n---  ------                     --------------  -----  \n 0   age                        2800 non-null   float64\n 1   sex                        2800 non-null   int64  \n 2   on thyroxine               2800 non-null   int64  \n 3   query on thyroxine         2800 non-null   int64  \n 4   on antithyroid medication  2800 non-null   int64  \n 5   sick                       2800 non-null   int64  \n 6   pregnant                   2800 non-null   int64  \n 7   thyroid surgery            2800 non-null   int64  \n 8   I131 treatment             2800 non-null   int64  \n 9   query hypothyroid          2800 non-null   int64  \n 10  query hyperthyroid         2800 non-null   int64  \n 11  lithium                    2800 non-null   int64  \n 12  goitre                     2800 non-null   int64  \n 13  tumor                      2800 non-null   int64  \n 14  hypopituitary              2800 non-null   int64  \n 15  psych                      2800 non-null   int64  \n 16  TSH                        2800 non-null   float64\n 17  T3                         2800 non-null   float64\n 18  TT4                        2800 non-null   float64\n 19  T4U                        2800 non-null   float64\n 20  FTI                        2800 non-null   float64\n 21  referral                   2800 non-null   object \n 22  class                      2800 non-null   int64  \ndtypes: float64(6), int64(16), object(1)\nmemory usage: 503.2+ KB\n"
     ]
    }
   ],
   "source": [
    "df.info()"
   ]
  },
  {
   "cell_type": "code",
   "execution_count": 53,
   "metadata": {},
   "outputs": [
    {
     "output_type": "display_data",
     "data": {
      "text/plain": "<Figure size 432x288 with 1 Axes>",
      "image/svg+xml": "<?xml version=\"1.0\" encoding=\"utf-8\" standalone=\"no\"?>\n<!DOCTYPE svg PUBLIC \"-//W3C//DTD SVG 1.1//EN\"\n  \"http://www.w3.org/Graphics/SVG/1.1/DTD/svg11.dtd\">\n<svg xmlns:xlink=\"http://www.w3.org/1999/xlink\" width=\"398.283125pt\" height=\"281.0925pt\" viewBox=\"0 0 398.283125 281.0925\" xmlns=\"http://www.w3.org/2000/svg\" version=\"1.1\">\n <metadata>\n  <rdf:RDF xmlns:dc=\"http://purl.org/dc/elements/1.1/\" xmlns:cc=\"http://creativecommons.org/ns#\" xmlns:rdf=\"http://www.w3.org/1999/02/22-rdf-syntax-ns#\">\n   <cc:Work>\n    <dc:type rdf:resource=\"http://purl.org/dc/dcmitype/StillImage\"/>\n    <dc:date>2023-01-07T16:02:07.950448</dc:date>\n    <dc:format>image/svg+xml</dc:format>\n    <dc:creator>\n     <cc:Agent>\n      <dc:title>Matplotlib v3.5.0, https://matplotlib.org/</dc:title>\n     </cc:Agent>\n    </dc:creator>\n   </cc:Work>\n  </rdf:RDF>\n </metadata>\n <defs>\n  <style type=\"text/css\">*{stroke-linejoin: round; stroke-linecap: butt}</style>\n </defs>\n <g id=\"figure_1\">\n  <g id=\"patch_1\">\n   <path d=\"M 0 281.0925 \nL 398.283125 281.0925 \nL 398.283125 0 \nL 0 0 \nz\n\" style=\"fill: #ffffff\"/>\n  </g>\n  <g id=\"axes_1\">\n   <g id=\"patch_2\">\n    <path d=\"M 56.283125 239.229375 \nL 391.083125 239.229375 \nL 391.083125 21.789375 \nL 56.283125 21.789375 \nz\n\" style=\"fill: #eaeaf2\"/>\n   </g>\n   <g id=\"matplotlib.axis_1\">\n    <g id=\"xtick_1\">\n     <g id=\"text_1\">\n      <!-- negative -->\n      <g style=\"fill: #262626\" transform=\"translate(119.190547 256.602969)scale(0.11 -0.11)\">\n       <defs>\n        <path id=\"ArialMT-6e\" d=\"M 422 0 \nL 422 3319 \nL 928 3319 \nL 928 2847 \nQ 1294 3394 1984 3394 \nQ 2284 3394 2536 3286 \nQ 2788 3178 2913 3003 \nQ 3038 2828 3088 2588 \nQ 3119 2431 3119 2041 \nL 3119 0 \nL 2556 0 \nL 2556 2019 \nQ 2556 2363 2490 2533 \nQ 2425 2703 2258 2804 \nQ 2091 2906 1866 2906 \nQ 1506 2906 1245 2678 \nQ 984 2450 984 1813 \nL 984 0 \nL 422 0 \nz\n\" transform=\"scale(0.015625)\"/>\n        <path id=\"ArialMT-65\" d=\"M 2694 1069 \nL 3275 997 \nQ 3138 488 2766 206 \nQ 2394 -75 1816 -75 \nQ 1088 -75 661 373 \nQ 234 822 234 1631 \nQ 234 2469 665 2931 \nQ 1097 3394 1784 3394 \nQ 2450 3394 2872 2941 \nQ 3294 2488 3294 1666 \nQ 3294 1616 3291 1516 \nL 816 1516 \nQ 847 969 1125 678 \nQ 1403 388 1819 388 \nQ 2128 388 2347 550 \nQ 2566 713 2694 1069 \nz\nM 847 1978 \nL 2700 1978 \nQ 2663 2397 2488 2606 \nQ 2219 2931 1791 2931 \nQ 1403 2931 1139 2672 \nQ 875 2413 847 1978 \nz\n\" transform=\"scale(0.015625)\"/>\n        <path id=\"ArialMT-67\" d=\"M 319 -275 \nL 866 -356 \nQ 900 -609 1056 -725 \nQ 1266 -881 1628 -881 \nQ 2019 -881 2231 -725 \nQ 2444 -569 2519 -288 \nQ 2563 -116 2559 434 \nQ 2191 0 1641 0 \nQ 956 0 581 494 \nQ 206 988 206 1678 \nQ 206 2153 378 2554 \nQ 550 2956 876 3175 \nQ 1203 3394 1644 3394 \nQ 2231 3394 2613 2919 \nL 2613 3319 \nL 3131 3319 \nL 3131 450 \nQ 3131 -325 2973 -648 \nQ 2816 -972 2473 -1159 \nQ 2131 -1347 1631 -1347 \nQ 1038 -1347 672 -1080 \nQ 306 -813 319 -275 \nz\nM 784 1719 \nQ 784 1066 1043 766 \nQ 1303 466 1694 466 \nQ 2081 466 2343 764 \nQ 2606 1063 2606 1700 \nQ 2606 2309 2336 2618 \nQ 2066 2928 1684 2928 \nQ 1309 2928 1046 2623 \nQ 784 2319 784 1719 \nz\n\" transform=\"scale(0.015625)\"/>\n        <path id=\"ArialMT-61\" d=\"M 2588 409 \nQ 2275 144 1986 34 \nQ 1697 -75 1366 -75 \nQ 819 -75 525 192 \nQ 231 459 231 875 \nQ 231 1119 342 1320 \nQ 453 1522 633 1644 \nQ 813 1766 1038 1828 \nQ 1203 1872 1538 1913 \nQ 2219 1994 2541 2106 \nQ 2544 2222 2544 2253 \nQ 2544 2597 2384 2738 \nQ 2169 2928 1744 2928 \nQ 1347 2928 1158 2789 \nQ 969 2650 878 2297 \nL 328 2372 \nQ 403 2725 575 2942 \nQ 747 3159 1072 3276 \nQ 1397 3394 1825 3394 \nQ 2250 3394 2515 3294 \nQ 2781 3194 2906 3042 \nQ 3031 2891 3081 2659 \nQ 3109 2516 3109 2141 \nL 3109 1391 \nQ 3109 606 3145 398 \nQ 3181 191 3288 0 \nL 2700 0 \nQ 2613 175 2588 409 \nz\nM 2541 1666 \nQ 2234 1541 1622 1453 \nQ 1275 1403 1131 1340 \nQ 988 1278 909 1158 \nQ 831 1038 831 891 \nQ 831 666 1001 516 \nQ 1172 366 1500 366 \nQ 1825 366 2078 508 \nQ 2331 650 2450 897 \nQ 2541 1088 2541 1459 \nL 2541 1666 \nz\n\" transform=\"scale(0.015625)\"/>\n        <path id=\"ArialMT-74\" d=\"M 1650 503 \nL 1731 6 \nQ 1494 -44 1306 -44 \nQ 1000 -44 831 53 \nQ 663 150 594 308 \nQ 525 466 525 972 \nL 525 2881 \nL 113 2881 \nL 113 3319 \nL 525 3319 \nL 525 4141 \nL 1084 4478 \nL 1084 3319 \nL 1650 3319 \nL 1650 2881 \nL 1084 2881 \nL 1084 941 \nQ 1084 700 1114 631 \nQ 1144 563 1211 522 \nQ 1278 481 1403 481 \nQ 1497 481 1650 503 \nz\n\" transform=\"scale(0.015625)\"/>\n        <path id=\"ArialMT-69\" d=\"M 425 3934 \nL 425 4581 \nL 988 4581 \nL 988 3934 \nL 425 3934 \nz\nM 425 0 \nL 425 3319 \nL 988 3319 \nL 988 0 \nL 425 0 \nz\n\" transform=\"scale(0.015625)\"/>\n        <path id=\"ArialMT-76\" d=\"M 1344 0 \nL 81 3319 \nL 675 3319 \nL 1388 1331 \nQ 1503 1009 1600 663 \nQ 1675 925 1809 1294 \nL 2547 3319 \nL 3125 3319 \nL 1869 0 \nL 1344 0 \nz\n\" transform=\"scale(0.015625)\"/>\n       </defs>\n       <use xlink:href=\"#ArialMT-6e\"/>\n       <use xlink:href=\"#ArialMT-65\" x=\"55.615234\"/>\n       <use xlink:href=\"#ArialMT-67\" x=\"111.230469\"/>\n       <use xlink:href=\"#ArialMT-61\" x=\"166.845703\"/>\n       <use xlink:href=\"#ArialMT-74\" x=\"222.460938\"/>\n       <use xlink:href=\"#ArialMT-69\" x=\"250.244141\"/>\n       <use xlink:href=\"#ArialMT-76\" x=\"272.460938\"/>\n       <use xlink:href=\"#ArialMT-65\" x=\"322.460938\"/>\n      </g>\n     </g>\n    </g>\n    <g id=\"xtick_2\">\n     <g id=\"text_2\">\n      <!-- positive -->\n      <g style=\"fill: #262626\" transform=\"translate(288.735547 256.602969)scale(0.11 -0.11)\">\n       <defs>\n        <path id=\"ArialMT-70\" d=\"M 422 -1272 \nL 422 3319 \nL 934 3319 \nL 934 2888 \nQ 1116 3141 1344 3267 \nQ 1572 3394 1897 3394 \nQ 2322 3394 2647 3175 \nQ 2972 2956 3137 2557 \nQ 3303 2159 3303 1684 \nQ 3303 1175 3120 767 \nQ 2938 359 2589 142 \nQ 2241 -75 1856 -75 \nQ 1575 -75 1351 44 \nQ 1128 163 984 344 \nL 984 -1272 \nL 422 -1272 \nz\nM 931 1641 \nQ 931 1000 1190 694 \nQ 1450 388 1819 388 \nQ 2194 388 2461 705 \nQ 2728 1022 2728 1688 \nQ 2728 2322 2467 2637 \nQ 2206 2953 1844 2953 \nQ 1484 2953 1207 2617 \nQ 931 2281 931 1641 \nz\n\" transform=\"scale(0.015625)\"/>\n        <path id=\"ArialMT-6f\" d=\"M 213 1659 \nQ 213 2581 725 3025 \nQ 1153 3394 1769 3394 \nQ 2453 3394 2887 2945 \nQ 3322 2497 3322 1706 \nQ 3322 1066 3130 698 \nQ 2938 331 2570 128 \nQ 2203 -75 1769 -75 \nQ 1072 -75 642 372 \nQ 213 819 213 1659 \nz\nM 791 1659 \nQ 791 1022 1069 705 \nQ 1347 388 1769 388 \nQ 2188 388 2466 706 \nQ 2744 1025 2744 1678 \nQ 2744 2294 2464 2611 \nQ 2184 2928 1769 2928 \nQ 1347 2928 1069 2612 \nQ 791 2297 791 1659 \nz\n\" transform=\"scale(0.015625)\"/>\n        <path id=\"ArialMT-73\" d=\"M 197 991 \nL 753 1078 \nQ 800 744 1014 566 \nQ 1228 388 1613 388 \nQ 2000 388 2187 545 \nQ 2375 703 2375 916 \nQ 2375 1106 2209 1216 \nQ 2094 1291 1634 1406 \nQ 1016 1563 777 1677 \nQ 538 1791 414 1992 \nQ 291 2194 291 2438 \nQ 291 2659 392 2848 \nQ 494 3038 669 3163 \nQ 800 3259 1026 3326 \nQ 1253 3394 1513 3394 \nQ 1903 3394 2198 3281 \nQ 2494 3169 2634 2976 \nQ 2775 2784 2828 2463 \nL 2278 2388 \nQ 2241 2644 2061 2787 \nQ 1881 2931 1553 2931 \nQ 1166 2931 1000 2803 \nQ 834 2675 834 2503 \nQ 834 2394 903 2306 \nQ 972 2216 1119 2156 \nQ 1203 2125 1616 2013 \nQ 2213 1853 2448 1751 \nQ 2684 1650 2818 1456 \nQ 2953 1263 2953 975 \nQ 2953 694 2789 445 \nQ 2625 197 2315 61 \nQ 2006 -75 1616 -75 \nQ 969 -75 630 194 \nQ 291 463 197 991 \nz\n\" transform=\"scale(0.015625)\"/>\n       </defs>\n       <use xlink:href=\"#ArialMT-70\"/>\n       <use xlink:href=\"#ArialMT-6f\" x=\"55.615234\"/>\n       <use xlink:href=\"#ArialMT-73\" x=\"111.230469\"/>\n       <use xlink:href=\"#ArialMT-69\" x=\"161.230469\"/>\n       <use xlink:href=\"#ArialMT-74\" x=\"183.447266\"/>\n       <use xlink:href=\"#ArialMT-69\" x=\"211.230469\"/>\n       <use xlink:href=\"#ArialMT-76\" x=\"233.447266\"/>\n       <use xlink:href=\"#ArialMT-65\" x=\"283.447266\"/>\n      </g>\n     </g>\n    </g>\n    <g id=\"text_3\">\n     <!-- Classes -->\n     <g style=\"fill: #262626\" transform=\"translate(202.34375 271.5075)scale(0.12 -0.12)\">\n      <defs>\n       <path id=\"ArialMT-43\" d=\"M 3763 1606 \nL 4369 1453 \nQ 4178 706 3683 314 \nQ 3188 -78 2472 -78 \nQ 1731 -78 1267 223 \nQ 803 525 561 1097 \nQ 319 1669 319 2325 \nQ 319 3041 592 3573 \nQ 866 4106 1370 4382 \nQ 1875 4659 2481 4659 \nQ 3169 4659 3637 4309 \nQ 4106 3959 4291 3325 \nL 3694 3184 \nQ 3534 3684 3231 3912 \nQ 2928 4141 2469 4141 \nQ 1941 4141 1586 3887 \nQ 1231 3634 1087 3207 \nQ 944 2781 944 2328 \nQ 944 1744 1114 1308 \nQ 1284 872 1643 656 \nQ 2003 441 2422 441 \nQ 2931 441 3284 734 \nQ 3638 1028 3763 1606 \nz\n\" transform=\"scale(0.015625)\"/>\n       <path id=\"ArialMT-6c\" d=\"M 409 0 \nL 409 4581 \nL 972 4581 \nL 972 0 \nL 409 0 \nz\n\" transform=\"scale(0.015625)\"/>\n      </defs>\n      <use xlink:href=\"#ArialMT-43\"/>\n      <use xlink:href=\"#ArialMT-6c\" x=\"72.216797\"/>\n      <use xlink:href=\"#ArialMT-61\" x=\"94.433594\"/>\n      <use xlink:href=\"#ArialMT-73\" x=\"150.048828\"/>\n      <use xlink:href=\"#ArialMT-73\" x=\"200.048828\"/>\n      <use xlink:href=\"#ArialMT-65\" x=\"250.048828\"/>\n      <use xlink:href=\"#ArialMT-73\" x=\"305.664062\"/>\n     </g>\n    </g>\n   </g>\n   <g id=\"matplotlib.axis_2\">\n    <g id=\"ytick_1\">\n     <g id=\"line2d_1\">\n      <path d=\"M 56.283125 239.229375 \nL 391.083125 239.229375 \n\" clip-path=\"url(#p1025d0b7fd)\" style=\"fill: none; stroke: #ffffff; stroke-linecap: round\"/>\n     </g>\n     <g id=\"text_4\">\n      <!-- 0 -->\n      <g style=\"fill: #262626\" transform=\"translate(40.666094 243.166172)scale(0.11 -0.11)\">\n       <defs>\n        <path id=\"ArialMT-30\" d=\"M 266 2259 \nQ 266 3072 433 3567 \nQ 600 4063 929 4331 \nQ 1259 4600 1759 4600 \nQ 2128 4600 2406 4451 \nQ 2684 4303 2865 4023 \nQ 3047 3744 3150 3342 \nQ 3253 2941 3253 2259 \nQ 3253 1453 3087 958 \nQ 2922 463 2592 192 \nQ 2263 -78 1759 -78 \nQ 1097 -78 719 397 \nQ 266 969 266 2259 \nz\nM 844 2259 \nQ 844 1131 1108 757 \nQ 1372 384 1759 384 \nQ 2147 384 2411 759 \nQ 2675 1134 2675 2259 \nQ 2675 3391 2411 3762 \nQ 2147 4134 1753 4134 \nQ 1366 4134 1134 3806 \nQ 844 3388 844 2259 \nz\n\" transform=\"scale(0.015625)\"/>\n       </defs>\n       <use xlink:href=\"#ArialMT-30\"/>\n      </g>\n     </g>\n    </g>\n    <g id=\"ytick_2\">\n     <g id=\"line2d_2\">\n      <path d=\"M 56.283125 201.204088 \nL 391.083125 201.204088 \n\" clip-path=\"url(#p1025d0b7fd)\" style=\"fill: none; stroke: #ffffff; stroke-linecap: round\"/>\n     </g>\n     <g id=\"text_5\">\n      <!-- 500 -->\n      <g style=\"fill: #262626\" transform=\"translate(28.432031 205.140885)scale(0.11 -0.11)\">\n       <defs>\n        <path id=\"ArialMT-35\" d=\"M 266 1200 \nL 856 1250 \nQ 922 819 1161 601 \nQ 1400 384 1738 384 \nQ 2144 384 2425 690 \nQ 2706 997 2706 1503 \nQ 2706 1984 2436 2262 \nQ 2166 2541 1728 2541 \nQ 1456 2541 1237 2417 \nQ 1019 2294 894 2097 \nL 366 2166 \nL 809 4519 \nL 3088 4519 \nL 3088 3981 \nL 1259 3981 \nL 1013 2750 \nQ 1425 3038 1878 3038 \nQ 2478 3038 2890 2622 \nQ 3303 2206 3303 1553 \nQ 3303 931 2941 478 \nQ 2500 -78 1738 -78 \nQ 1113 -78 717 272 \nQ 322 622 266 1200 \nz\n\" transform=\"scale(0.015625)\"/>\n       </defs>\n       <use xlink:href=\"#ArialMT-35\"/>\n       <use xlink:href=\"#ArialMT-30\" x=\"55.615234\"/>\n       <use xlink:href=\"#ArialMT-30\" x=\"111.230469\"/>\n      </g>\n     </g>\n    </g>\n    <g id=\"ytick_3\">\n     <g id=\"line2d_3\">\n      <path d=\"M 56.283125 163.178801 \nL 391.083125 163.178801 \n\" clip-path=\"url(#p1025d0b7fd)\" style=\"fill: none; stroke: #ffffff; stroke-linecap: round\"/>\n     </g>\n     <g id=\"text_6\">\n      <!-- 1000 -->\n      <g style=\"fill: #262626\" transform=\"translate(22.315 167.115597)scale(0.11 -0.11)\">\n       <defs>\n        <path id=\"ArialMT-31\" d=\"M 2384 0 \nL 1822 0 \nL 1822 3584 \nQ 1619 3391 1289 3197 \nQ 959 3003 697 2906 \nL 697 3450 \nQ 1169 3672 1522 3987 \nQ 1875 4303 2022 4600 \nL 2384 4600 \nL 2384 0 \nz\n\" transform=\"scale(0.015625)\"/>\n       </defs>\n       <use xlink:href=\"#ArialMT-31\"/>\n       <use xlink:href=\"#ArialMT-30\" x=\"55.615234\"/>\n       <use xlink:href=\"#ArialMT-30\" x=\"111.230469\"/>\n       <use xlink:href=\"#ArialMT-30\" x=\"166.845703\"/>\n      </g>\n     </g>\n    </g>\n    <g id=\"ytick_4\">\n     <g id=\"line2d_4\">\n      <path d=\"M 56.283125 125.153513 \nL 391.083125 125.153513 \n\" clip-path=\"url(#p1025d0b7fd)\" style=\"fill: none; stroke: #ffffff; stroke-linecap: round\"/>\n     </g>\n     <g id=\"text_7\">\n      <!-- 1500 -->\n      <g style=\"fill: #262626\" transform=\"translate(22.315 129.09031)scale(0.11 -0.11)\">\n       <use xlink:href=\"#ArialMT-31\"/>\n       <use xlink:href=\"#ArialMT-35\" x=\"55.615234\"/>\n       <use xlink:href=\"#ArialMT-30\" x=\"111.230469\"/>\n       <use xlink:href=\"#ArialMT-30\" x=\"166.845703\"/>\n      </g>\n     </g>\n    </g>\n    <g id=\"ytick_5\">\n     <g id=\"line2d_5\">\n      <path d=\"M 56.283125 87.128226 \nL 391.083125 87.128226 \n\" clip-path=\"url(#p1025d0b7fd)\" style=\"fill: none; stroke: #ffffff; stroke-linecap: round\"/>\n     </g>\n     <g id=\"text_8\">\n      <!-- 2000 -->\n      <g style=\"fill: #262626\" transform=\"translate(22.315 91.065023)scale(0.11 -0.11)\">\n       <defs>\n        <path id=\"ArialMT-32\" d=\"M 3222 541 \nL 3222 0 \nL 194 0 \nQ 188 203 259 391 \nQ 375 700 629 1000 \nQ 884 1300 1366 1694 \nQ 2113 2306 2375 2664 \nQ 2638 3022 2638 3341 \nQ 2638 3675 2398 3904 \nQ 2159 4134 1775 4134 \nQ 1369 4134 1125 3890 \nQ 881 3647 878 3216 \nL 300 3275 \nQ 359 3922 746 4261 \nQ 1134 4600 1788 4600 \nQ 2447 4600 2831 4234 \nQ 3216 3869 3216 3328 \nQ 3216 3053 3103 2787 \nQ 2991 2522 2730 2228 \nQ 2469 1934 1863 1422 \nQ 1356 997 1212 845 \nQ 1069 694 975 541 \nL 3222 541 \nz\n\" transform=\"scale(0.015625)\"/>\n       </defs>\n       <use xlink:href=\"#ArialMT-32\"/>\n       <use xlink:href=\"#ArialMT-30\" x=\"55.615234\"/>\n       <use xlink:href=\"#ArialMT-30\" x=\"111.230469\"/>\n       <use xlink:href=\"#ArialMT-30\" x=\"166.845703\"/>\n      </g>\n     </g>\n    </g>\n    <g id=\"ytick_6\">\n     <g id=\"line2d_6\">\n      <path d=\"M 56.283125 49.102939 \nL 391.083125 49.102939 \n\" clip-path=\"url(#p1025d0b7fd)\" style=\"fill: none; stroke: #ffffff; stroke-linecap: round\"/>\n     </g>\n     <g id=\"text_9\">\n      <!-- 2500 -->\n      <g style=\"fill: #262626\" transform=\"translate(22.315 53.039736)scale(0.11 -0.11)\">\n       <use xlink:href=\"#ArialMT-32\"/>\n       <use xlink:href=\"#ArialMT-35\" x=\"55.615234\"/>\n       <use xlink:href=\"#ArialMT-30\" x=\"111.230469\"/>\n       <use xlink:href=\"#ArialMT-30\" x=\"166.845703\"/>\n      </g>\n     </g>\n    </g>\n    <g id=\"text_10\">\n     <!-- Frequency -->\n     <g style=\"fill: #262626\" transform=\"translate(15.789375 158.854688)rotate(-90)scale(0.12 -0.12)\">\n      <defs>\n       <path id=\"ArialMT-46\" d=\"M 525 0 \nL 525 4581 \nL 3616 4581 \nL 3616 4041 \nL 1131 4041 \nL 1131 2622 \nL 3281 2622 \nL 3281 2081 \nL 1131 2081 \nL 1131 0 \nL 525 0 \nz\n\" transform=\"scale(0.015625)\"/>\n       <path id=\"ArialMT-72\" d=\"M 416 0 \nL 416 3319 \nL 922 3319 \nL 922 2816 \nQ 1116 3169 1280 3281 \nQ 1444 3394 1641 3394 \nQ 1925 3394 2219 3213 \nL 2025 2691 \nQ 1819 2813 1613 2813 \nQ 1428 2813 1281 2702 \nQ 1134 2591 1072 2394 \nQ 978 2094 978 1738 \nL 978 0 \nL 416 0 \nz\n\" transform=\"scale(0.015625)\"/>\n       <path id=\"ArialMT-71\" d=\"M 2538 -1272 \nL 2538 353 \nQ 2406 169 2170 47 \nQ 1934 -75 1669 -75 \nQ 1078 -75 651 397 \nQ 225 869 225 1691 \nQ 225 2191 398 2587 \nQ 572 2984 901 3189 \nQ 1231 3394 1625 3394 \nQ 2241 3394 2594 2875 \nL 2594 3319 \nL 3100 3319 \nL 3100 -1272 \nL 2538 -1272 \nz\nM 803 1669 \nQ 803 1028 1072 708 \nQ 1341 388 1716 388 \nQ 2075 388 2334 692 \nQ 2594 997 2594 1619 \nQ 2594 2281 2320 2615 \nQ 2047 2950 1678 2950 \nQ 1313 2950 1058 2639 \nQ 803 2328 803 1669 \nz\n\" transform=\"scale(0.015625)\"/>\n       <path id=\"ArialMT-75\" d=\"M 2597 0 \nL 2597 488 \nQ 2209 -75 1544 -75 \nQ 1250 -75 995 37 \nQ 741 150 617 320 \nQ 494 491 444 738 \nQ 409 903 409 1263 \nL 409 3319 \nL 972 3319 \nL 972 1478 \nQ 972 1038 1006 884 \nQ 1059 663 1231 536 \nQ 1403 409 1656 409 \nQ 1909 409 2131 539 \nQ 2353 669 2445 892 \nQ 2538 1116 2538 1541 \nL 2538 3319 \nL 3100 3319 \nL 3100 0 \nL 2597 0 \nz\n\" transform=\"scale(0.015625)\"/>\n       <path id=\"ArialMT-63\" d=\"M 2588 1216 \nL 3141 1144 \nQ 3050 572 2676 248 \nQ 2303 -75 1759 -75 \nQ 1078 -75 664 370 \nQ 250 816 250 1647 \nQ 250 2184 428 2587 \nQ 606 2991 970 3192 \nQ 1334 3394 1763 3394 \nQ 2303 3394 2647 3120 \nQ 2991 2847 3088 2344 \nL 2541 2259 \nQ 2463 2594 2264 2762 \nQ 2066 2931 1784 2931 \nQ 1359 2931 1093 2626 \nQ 828 2322 828 1663 \nQ 828 994 1084 691 \nQ 1341 388 1753 388 \nQ 2084 388 2306 591 \nQ 2528 794 2588 1216 \nz\n\" transform=\"scale(0.015625)\"/>\n       <path id=\"ArialMT-79\" d=\"M 397 -1278 \nL 334 -750 \nQ 519 -800 656 -800 \nQ 844 -800 956 -737 \nQ 1069 -675 1141 -563 \nQ 1194 -478 1313 -144 \nQ 1328 -97 1363 -6 \nL 103 3319 \nL 709 3319 \nL 1400 1397 \nQ 1534 1031 1641 628 \nQ 1738 1016 1872 1384 \nL 2581 3319 \nL 3144 3319 \nL 1881 -56 \nQ 1678 -603 1566 -809 \nQ 1416 -1088 1222 -1217 \nQ 1028 -1347 759 -1347 \nQ 597 -1347 397 -1278 \nz\n\" transform=\"scale(0.015625)\"/>\n      </defs>\n      <use xlink:href=\"#ArialMT-46\"/>\n      <use xlink:href=\"#ArialMT-72\" x=\"61.083984\"/>\n      <use xlink:href=\"#ArialMT-65\" x=\"94.384766\"/>\n      <use xlink:href=\"#ArialMT-71\" x=\"150\"/>\n      <use xlink:href=\"#ArialMT-75\" x=\"205.615234\"/>\n      <use xlink:href=\"#ArialMT-65\" x=\"261.230469\"/>\n      <use xlink:href=\"#ArialMT-6e\" x=\"316.845703\"/>\n      <use xlink:href=\"#ArialMT-63\" x=\"372.460938\"/>\n      <use xlink:href=\"#ArialMT-79\" x=\"422.460938\"/>\n     </g>\n    </g>\n   </g>\n   <g id=\"patch_3\">\n    <path d=\"M 73.023125 239.229375 \nL 206.943125 239.229375 \nL 206.943125 32.143661 \nL 73.023125 32.143661 \nz\n\" clip-path=\"url(#p1025d0b7fd)\" style=\"fill: #5875a4; stroke: #ffffff; stroke-linejoin: miter\"/>\n   </g>\n   <g id=\"patch_4\">\n    <path d=\"M 240.423125 239.229375 \nL 374.343125 239.229375 \nL 374.343125 233.373481 \nL 240.423125 233.373481 \nz\n\" clip-path=\"url(#p1025d0b7fd)\" style=\"fill: #cc8963; stroke: #ffffff; stroke-linejoin: miter\"/>\n   </g>\n   <g id=\"line2d_7\">\n    <path clip-path=\"url(#p1025d0b7fd)\" style=\"fill: none; stroke: #424242; stroke-width: 2.7; stroke-linecap: round\"/>\n   </g>\n   <g id=\"line2d_8\">\n    <path clip-path=\"url(#p1025d0b7fd)\" style=\"fill: none; stroke: #424242; stroke-width: 2.7; stroke-linecap: round\"/>\n   </g>\n   <g id=\"patch_5\">\n    <path d=\"M 56.283125 239.229375 \nL 56.283125 21.789375 \n\" style=\"fill: none; stroke: #ffffff; stroke-width: 1.25; stroke-linejoin: miter; stroke-linecap: square\"/>\n   </g>\n   <g id=\"patch_6\">\n    <path d=\"M 391.083125 239.229375 \nL 391.083125 21.789375 \n\" style=\"fill: none; stroke: #ffffff; stroke-width: 1.25; stroke-linejoin: miter; stroke-linecap: square\"/>\n   </g>\n   <g id=\"patch_7\">\n    <path d=\"M 56.283125 239.229375 \nL 391.083125 239.229375 \n\" style=\"fill: none; stroke: #ffffff; stroke-width: 1.25; stroke-linejoin: miter; stroke-linecap: square\"/>\n   </g>\n   <g id=\"patch_8\">\n    <path d=\"M 56.283125 21.789375 \nL 391.083125 21.789375 \n\" style=\"fill: none; stroke: #ffffff; stroke-width: 1.25; stroke-linejoin: miter; stroke-linecap: square\"/>\n   </g>\n   <g id=\"text_11\">\n    <!-- Class distribution -->\n    <g style=\"fill: #262626\" transform=\"translate(177.999688 15.789375)scale(0.12 -0.12)\">\n     <defs>\n      <path id=\"ArialMT-20\" transform=\"scale(0.015625)\"/>\n      <path id=\"ArialMT-64\" d=\"M 2575 0 \nL 2575 419 \nQ 2259 -75 1647 -75 \nQ 1250 -75 917 144 \nQ 584 363 401 755 \nQ 219 1147 219 1656 \nQ 219 2153 384 2558 \nQ 550 2963 881 3178 \nQ 1213 3394 1622 3394 \nQ 1922 3394 2156 3267 \nQ 2391 3141 2538 2938 \nL 2538 4581 \nL 3097 4581 \nL 3097 0 \nL 2575 0 \nz\nM 797 1656 \nQ 797 1019 1065 703 \nQ 1334 388 1700 388 \nQ 2069 388 2326 689 \nQ 2584 991 2584 1609 \nQ 2584 2291 2321 2609 \nQ 2059 2928 1675 2928 \nQ 1300 2928 1048 2622 \nQ 797 2316 797 1656 \nz\n\" transform=\"scale(0.015625)\"/>\n      <path id=\"ArialMT-62\" d=\"M 941 0 \nL 419 0 \nL 419 4581 \nL 981 4581 \nL 981 2947 \nQ 1338 3394 1891 3394 \nQ 2197 3394 2470 3270 \nQ 2744 3147 2920 2923 \nQ 3097 2700 3197 2384 \nQ 3297 2069 3297 1709 \nQ 3297 856 2875 390 \nQ 2453 -75 1863 -75 \nQ 1275 -75 941 416 \nL 941 0 \nz\nM 934 1684 \nQ 934 1088 1097 822 \nQ 1363 388 1816 388 \nQ 2184 388 2453 708 \nQ 2722 1028 2722 1663 \nQ 2722 2313 2464 2622 \nQ 2206 2931 1841 2931 \nQ 1472 2931 1203 2611 \nQ 934 2291 934 1684 \nz\n\" transform=\"scale(0.015625)\"/>\n     </defs>\n     <use xlink:href=\"#ArialMT-43\"/>\n     <use xlink:href=\"#ArialMT-6c\" x=\"72.216797\"/>\n     <use xlink:href=\"#ArialMT-61\" x=\"94.433594\"/>\n     <use xlink:href=\"#ArialMT-73\" x=\"150.048828\"/>\n     <use xlink:href=\"#ArialMT-73\" x=\"200.048828\"/>\n     <use xlink:href=\"#ArialMT-20\" x=\"250.048828\"/>\n     <use xlink:href=\"#ArialMT-64\" x=\"277.832031\"/>\n     <use xlink:href=\"#ArialMT-69\" x=\"333.447266\"/>\n     <use xlink:href=\"#ArialMT-73\" x=\"355.664062\"/>\n     <use xlink:href=\"#ArialMT-74\" x=\"405.664062\"/>\n     <use xlink:href=\"#ArialMT-72\" x=\"433.447266\"/>\n     <use xlink:href=\"#ArialMT-69\" x=\"466.748047\"/>\n     <use xlink:href=\"#ArialMT-62\" x=\"488.964844\"/>\n     <use xlink:href=\"#ArialMT-75\" x=\"544.580078\"/>\n     <use xlink:href=\"#ArialMT-74\" x=\"600.195312\"/>\n     <use xlink:href=\"#ArialMT-69\" x=\"627.978516\"/>\n     <use xlink:href=\"#ArialMT-6f\" x=\"650.195312\"/>\n     <use xlink:href=\"#ArialMT-6e\" x=\"705.810547\"/>\n    </g>\n   </g>\n  </g>\n </g>\n <defs>\n  <clipPath id=\"p1025d0b7fd\">\n   <rect x=\"56.283125\" y=\"21.789375\" width=\"334.8\" height=\"217.44\"/>\n  </clipPath>\n </defs>\n</svg>\n",
      "image/png": "[encoded data removed]"
     },
     "metadata": {}
    }
   ],
   "source": [
    "sns.set(style=\"darkgrid\")\n",
    "sns.barplot(x=\"Class\", y=\"cnt\", data = {\"Class\": ['negative', 'positive'], \"cnt\": [len(df[df['class'] == 0]), len(df[df['class'] == 1])]})\n",
    "plt.title(\"Class distribution\")\n",
    "plt.xlabel(\"Classes\")\n",
    "plt.ylabel(\"Frequency\")\n",
    "plt.show()"
   ]
  },
  {
   "cell_type": "code",
   "execution_count": 54,
   "metadata": {},
   "outputs": [],
   "source": [
    "df.drop(['referral'], axis = 1, inplace = True)"
   ]
  },
  {
   "cell_type": "code",
   "execution_count": 55,
   "metadata": {},
   "outputs": [
    {
     "output_type": "execute_result",
     "data": {
      "text/plain": [
       "    age  sex  on thyroxine  query on thyroxine  on antithyroid medication  \\\n",
       "0  41.0    0             0                   0                          0   \n",
       "1  23.0    0             0                   0                          0   \n",
       "2  46.0    1             0                   0                          0   \n",
       "3  70.0    0             1                   0                          0   \n",
       "4  70.0    0             0                   0                          0   \n",
       "\n",
       "   sick  pregnant  thyroid surgery  I131 treatment  query hypothyroid  ...  \\\n",
       "0     0         0                0               0                  0  ...   \n",
       "1     0         0                0               0                  0  ...   \n",
       "2     0         0                0               0                  0  ...   \n",
       "3     0         0                0               0                  0  ...   \n",
       "4     0         0                0               0                  0  ...   \n",
       "\n",
       "   goitre  tumor  hypopituitary  psych   TSH        T3    TT4       T4U  \\\n",
       "0       0      0              0      0  1.30  2.500000  125.0  1.140000   \n",
       "1       0      0              0      0  4.10  2.000000  102.0  0.997912   \n",
       "2       0      0              0      0  0.98  2.024966  109.0  0.910000   \n",
       "3       0      0              0      0  0.16  1.900000  175.0  0.997912   \n",
       "4       0      0              0      0  0.72  1.200000   61.0  0.870000   \n",
       "\n",
       "          FTI  class  \n",
       "0  109.000000      0  \n",
       "1  110.787984      0  \n",
       "2  120.000000      0  \n",
       "3  110.787984      0  \n",
       "4   70.000000      0  \n",
       "\n",
       "[5 rows x 22 columns]"
      ],
      "text/html": "<div>\n<style scoped>\n    .dataframe tbody tr th:only-of-type {\n        vertical-align: middle;\n    }\n\n    .dataframe tbody tr th {\n        vertical-align: top;\n    }\n\n    .dataframe thead th {\n        text-align: right;\n    }\n</style>\n<table border=\"1\" class=\"dataframe\">\n  <thead>\n    <tr style=\"text-align: right;\">\n      <th></th>\n      <th>age</th>\n      <th>sex</th>\n      <th>on thyroxine</th>\n      <th>query on thyroxine</th>\n      <th>on antithyroid medication</th>\n      <th>sick</th>\n      <th>pregnant</th>\n      <th>thyroid surgery</th>\n      <th>I131 treatment</th>\n      <th>query hypothyroid</th>\n      <th>...</th>\n      <th>goitre</th>\n      <th>tumor</th>\n      <th>hypopituitary</th>\n      <th>psych</th>\n      <th>TSH</th>\n      <th>T3</th>\n      <th>TT4</th>\n      <th>T4U</th>\n      <th>FTI</th>\n      <th>class</th>\n    </tr>\n  </thead>\n  <tbody>\n    <tr>\n      <th>0</th>\n      <td>41.0</td>\n      <td>0</td>\n      <td>0</td>\n      <td>0</td>\n      <td>0</td>\n      <td>0</td>\n      <td>0</td>\n      <td>0</td>\n      <td>0</td>\n      <td>0</td>\n      <td>...</td>\n      <td>0</td>\n      <td>0</td>\n      <td>0</td>\n      <td>0</td>\n      <td>1.30</td>\n      <td>2.500000</td>\n      <td>125.0</td>\n      <td>1.140000</td>\n      <td>109.000000</td>\n      <td>0</td>\n    </tr>\n    <tr>\n      <th>1</th>\n      <td>23.0</td>\n      <td>0</td>\n      <td>0</td>\n      <td>0</td>\n      <td>0</td>\n      <td>0</td>\n      <td>0</td>\n      <td>0</td>\n      <td>0</td>\n      <td>0</td>\n      <td>...</td>\n      <td>0</td>\n      <td>0</td>\n      <td>0</td>\n      <td>0</td>\n      <td>4.10</td>\n      <td>2.000000</td>\n      <td>102.0</td>\n      <td>0.997912</td>\n      <td>110.787984</td>\n      <td>0</td>\n    </tr>\n    <tr>\n      <th>2</th>\n      <td>46.0</td>\n      <td>1</td>\n      <td>0</td>\n      <td>0</td>\n      <td>0</td>\n      <td>0</td>\n      <td>0</td>\n      <td>0</td>\n      <td>0</td>\n      <td>0</td>\n      <td>...</td>\n      <td>0</td>\n      <td>0</td>\n      <td>0</td>\n      <td>0</td>\n      <td>0.98</td>\n      <td>2.024966</td>\n      <td>109.0</td>\n      <td>0.910000</td>\n      <td>120.000000</td>\n      <td>0</td>\n    </tr>\n    <tr>\n      <th>3</th>\n      <td>70.0</td>\n      <td>0</td>\n      <td>1</td>\n      <td>0</td>\n      <td>0</td>\n      <td>0</td>\n      <td>0</td>\n      <td>0</td>\n      <td>0</td>\n      <td>0</td>\n      <td>...</td>\n      <td>0</td>\n      <td>0</td>\n      <td>0</td>\n      <td>0</td>\n      <td>0.16</td>\n      <td>1.900000</td>\n      <td>175.0</td>\n      <td>0.997912</td>\n      <td>110.787984</td>\n      <td>0</td>\n    </tr>\n    <tr>\n      <th>4</th>\n      <td>70.0</td>\n      <td>0</td>\n      <td>0</td>\n      <td>0</td>\n      <td>0</td>\n      <td>0</td>\n      <td>0</td>\n      <td>0</td>\n      <td>0</td>\n      <td>0</td>\n      <td>...</td>\n      <td>0</td>\n      <td>0</td>\n      <td>0</td>\n      <td>0</td>\n      <td>0.72</td>\n      <td>1.200000</td>\n      <td>61.0</td>\n      <td>0.870000</td>\n      <td>70.000000</td>\n      <td>0</td>\n    </tr>\n  </tbody>\n</table>\n<p>5 rows × 22 columns</p>\n</div>"
     },
     "metadata": {},
     "execution_count": 55
    }
   ],
   "source": [
    "df.head()"
   ]
  },
  {
   "cell_type": "code",
   "execution_count": 56,
   "metadata": {},
   "outputs": [],
   "source": [
    "df.to_csv('../data/hyperthyroid.csv')"
   ]
  },
  {
   "cell_type": "code",
   "execution_count": null,
   "metadata": {},
   "outputs": [],
   "source": []
  }
 ]
}